{
 "cells": [
  {
   "cell_type": "markdown",
   "metadata": {},
   "source": [
    "<center><div style=\"font-size:32px;display:inline-block;line-height:1.1;font-weight:bold;margin:0 0 15px\" class=\"aula-title\">Capítulo 8: Saídas do IPython</div></center>"
   ]
  },
  {
   "cell_type": "raw",
   "metadata": {},
   "source": [
    "<!---\n",
    "Escreva seu cabeçalho nesta célula \n",
    "\n",
    "Utilize o mesmo cabeçalho que fizemos em sala\n",
    "Não se esqueça de colocar pelo menos seu nome completo, título do capítulo e e-mail\n",
    "\n",
    "OBS: Apague todos os comentários após fazer o seu exercício\n",
    "--->"
   ]
  },
  {
   "cell_type": "markdown",
   "metadata": {},
   "source": [
    "## Exercício 1: Lista de compras modificada"
   ]
  },
  {
   "cell_type": "markdown",
   "metadata": {},
   "source": [
    "Modifique a Tarefa 1 mostrando o preço do produto e a quantidade em uma sub-lista dentro do item.\n",
    "\n",
    "- O preço só deve ser mostrado na sub-lista se e somente se o usuário especificar\n",
    "- O programa deve entender os preços no seguintes formatos:\n",
    "    - 4.50\n",
    "    - 4,50\n",
    "    - R\\$ 4,50\n",
    "    - R\\$ 4.50\n",
    "- A quantidade deve ser mostrada se e somente se o usuário espcificar.\n",
    "\n",
    "Veja um exemplo:\n",
    "\n",
    "A string:\n",
    "\n",
    "```\n",
    "Arroz - 4,50 - 2\n",
    "Carne - R$ 12,40 - 4\n",
    "Lentilha - - 1\n",
    "Ração Whiskas - 16.30 - 2\n",
    "Leite - 4,50\n",
    "```\n",
    "\n",
    "Resulta em:\n",
    "\n",
    "- Arroz\n",
    "    - Preço: R\\$ 4,50\n",
    "    - Qtd: 2\n",
    "- Carne\n",
    "    - Preço: R\\$ 12,40\n",
    "    - Qtd: 4\n",
    "- Lentilha\n",
    "    - Qtd: 1\n",
    "- Ração Whiskas\n",
    "    - Preço: R\\$ 16,30\n",
    "    - Qtd: 2\n",
    "- Leite\n",
    "    - Preço: R\\$ 4,50\n",
    "    \n",
    "**Total:** R$ 95,70"
   ]
  },
  {
   "cell_type": "markdown",
   "metadata": {},
   "source": [
    "**Solução:**"
   ]
  },
  {
   "cell_type": "code",
   "execution_count": null,
   "metadata": {},
   "outputs": [],
   "source": []
  },
  {
   "cell_type": "markdown",
   "metadata": {},
   "source": [
    "## Exercício 2: Tabela em Markdown\n",
    "\n",
    "Crie a seguinte Tabela em Markdown:"
   ]
  },
  {
   "cell_type": "markdown",
   "metadata": {},
   "source": [
    "<table>\n",
    "  <thead>\n",
    "    <tr>\n",
    "      <th style=\"text-align: right\">Nome</th>\n",
    "      <th style=\"text-align: left\">Sexo</th>\n",
    "      <th style=\"text-align: right\">Idade</th>\n",
    "    </tr>\n",
    "  </thead>\n",
    "  <tbody>\n",
    "    <tr>\n",
    "      <td style=\"text-align: right\">André</td>\n",
    "      <td style=\"text-align: left\">Masculino</td>\n",
    "      <td style=\"text-align: right\">45</td>\n",
    "    </tr>\n",
    "    <tr>\n",
    "      <td style=\"text-align: right\">Mariana</td>\n",
    "      <td style=\"text-align: left\">Feminino</td>\n",
    "      <td style=\"text-align: right\">32</td>\n",
    "    </tr>\n",
    "    <tr>\n",
    "      <td style=\"text-align: right\">João</td>\n",
    "      <td style=\"text-align: left\">Masculino</td>\n",
    "      <td style=\"text-align: right\">37</td>\n",
    "    </tr>\n",
    "    <tr>\n",
    "      <td style=\"text-align: right\">Pedro</td>\n",
    "      <td style=\"text-align: left\">Masculino</td>\n",
    "      <td style=\"text-align: right\">65</td>\n",
    "    </tr>\n",
    "    <tr>\n",
    "      <td style=\"text-align: right\">José</td>\n",
    "      <td style=\"text-align: left\">Masculino</td>\n",
    "      <td style=\"text-align: right\">93</td>\n",
    "    </tr>\n",
    "    <tr>\n",
    "      <td style=\"text-align: right\">Bianca</td>\n",
    "      <td style=\"text-align: left\">Feminino</td>\n",
    "      <td style=\"text-align: right\">40</td>\n",
    "    </tr>\n",
    "    <tr>\n",
    "      <td style=\"text-align: right\">Carlos</td>\n",
    "      <td style=\"text-align: left\">Feminino</td>\n",
    "      <td style=\"text-align: right\">44</td>\n",
    "    </tr>\n",
    "  </tbody>\n",
    "</table>"
   ]
  },
  {
   "cell_type": "markdown",
   "metadata": {},
   "source": [
    "**Solução:**"
   ]
  },
  {
   "cell_type": "raw",
   "metadata": {},
   "source": []
  },
  {
   "cell_type": "markdown",
   "metadata": {},
   "source": [
    "## Exercício 3: Valor nutricional dos alimentos\n",
    "\n",
    "O arquivo `comida.csv` em anexo contém a base de dados do valor nutricional de alguns alimentos consumidos pelos americanos, considerando uma porção de 100 gramas. \n",
    "\n",
    "> Atenção: Você deve utilizar o arquivo `comida.csv` disponível no **material auxiliar.** Este material foi adaptado de uma base de dados disponível logo abaixo. **Você deve usar preferencialmente o arquivo `comida.csv`, e não os dados originais!**  Pois seu PC vai travar se usar o arquivo original e a questão irá ficar um pouco mais difícil.  \n",
    "> [https://tools.myfooddata.com/nutrition-facts-database-spreadsheet.php](https://tools.myfooddata.com/nutrition-facts-database-spreadsheet.php)\n",
    "\n",
    "Neste exercício vamos utilizar o arquivo `comida.csv` que contém apenas um trecho da base de dados, com os seguintes campos:\n",
    "\n",
    "- Name (Nome da comida)\n",
    "- Food Group (Grupo da comida)\n",
    "- Calories (Calorias)\n",
    "- Fat (Gordura)\n",
    "- Protein (Proteína)\n",
    "- Carbohydrate (Carboidrato)\n",
    "\n",
    "Utilizando os conceitos deste capítulo crie uma tabela dinâmica capaz de filtrar os seguintes campos:\n",
    "\n",
    "- Food Group (Use um widget Dropdown)\n",
    "- Calories, Fat, Protein e Carbohydrate (Use um widget do tipo RangeSlider)\n",
    "\n",
    "Os RangeSlider tem as seguintes configurações:\n",
    "\n",
    "- Calories (Calorias) $\\rightarrow$ `min=17` e `max=642`\n",
    "- Fat (Gordura) $\\rightarrow$ `min=0` e `max=70`\n",
    "- Protein (Proteína) $\\rightarrow$ `min=0` e `max=40`\n",
    "- Carbohydrate (Carboidrato) $\\rightarrow$ `min=0` e `max=90`\n",
    "\n",
    "Adicione as seguintes cores nos campos `Food Group`:\n",
    "\n",
    "- `Vegatables` $\\rightarrow$ Green\n",
    "- `Sweets` $\\rightarrow$ Fuchsia\n",
    "- `Snacks` $\\rightarrow$ Orange\n",
    "- `Baked Foods` $\\rightarrow$ DarkKhaki\n",
    "- `Fruits` $\\rightarrow$ Blue\n",
    "- `Meats` $\\rightarrow$ Red\n",
    "\n",
    "Adicione um campo de busca no qual o usuário pode buscar pelo nome da comida (Campo `Name`). A busca deve ser `case insensitive`.\n",
    "\n",
    "> **Observação:** \n",
    "> - Lembre-se que esse arquivo csv tem cabeçalho.  \n",
    "> - **Use apenas os conhecimentos ensinados** até o momento (Não usar dicionários e nem pandas - Isso deixa a tarefa muito simples).\n",
    "\n",
    "> **Dica:** Pesquise sobre o método `join` para criar o cabeçalho.\n",
    "\n",
    "Veja o exemplo abaixo:"
   ]
  },
  {
   "cell_type": "code",
   "execution_count": 114,
   "metadata": {},
   "outputs": [
    {
     "data": {
      "text/markdown": [
       "|Nome|Sexo|Idade|\n",
       "|:-:|:-:|:-:|\n"
      ],
      "text/plain": [
       "<IPython.core.display.Markdown object>"
      ]
     },
     "metadata": {},
     "output_type": "display_data"
    }
   ],
   "source": [
    "Cabeçalho = ('Nome','Sexo','Idade')\n",
    "saída = '|'+'|'.join(Cabeçalho)+'|\\n' #Método Join foi utilizado para criar o cabeçalho usando o próprio cabeçalho da tabela\n",
    "saída += '|'+':-:|'*len(Cabeçalho)+'\\n'\n",
    "md(saída)"
   ]
  },
  {
   "cell_type": "markdown",
   "metadata": {},
   "source": [
    "**Solução:**"
   ]
  },
  {
   "cell_type": "code",
   "execution_count": 64,
   "metadata": {},
   "outputs": [
    {
     "data": {
      "application/vnd.jupyter.widget-view+json": {
       "model_id": "1eea73a1fb2a48c485d70d4fef1f4bb9",
       "version_major": 2,
       "version_minor": 0
      },
      "text/plain": [
       "interactive(children=(Text(value='', description='name', placeholder='Busque pelo nome'), Dropdown(description…"
      ]
     },
     "metadata": {},
     "output_type": "display_data"
    }
   ],
   "source": []
  }
 ],
 "metadata": {
  "kernelspec": {
   "display_name": "Python 3",
   "language": "python",
   "name": "python3"
  },
  "language_info": {
   "codemirror_mode": {
    "name": "ipython",
    "version": 3
   },
   "file_extension": ".py",
   "mimetype": "text/x-python",
   "name": "python",
   "nbconvert_exporter": "python",
   "pygments_lexer": "ipython3",
   "version": "3.8.3"
  },
  "toc-autonumbering": false,
  "toc-showcode": false
 },
 "nbformat": 4,
 "nbformat_minor": 4
}
