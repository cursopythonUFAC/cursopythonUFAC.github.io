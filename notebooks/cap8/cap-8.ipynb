{
 "cells": [
  {
   "cell_type": "markdown",
   "metadata": {},
   "source": [
    "<center><div style=\"font-size:32px;display:inline-block;line-height:1.1;font-weight:bold;margin:0 0 15px\" class=\"aula-title\">Capítulo 8: Saídas do IPython</div></center>"
   ]
  },
  {
   "cell_type": "raw",
   "metadata": {},
   "source": [
    "<!---\n",
    "Escreva seu cabeçalho nesta célula \n",
    "\n",
    "Utilize o mesmo cabeçalho que fizemos em sala\n",
    "Não se esqueça de colocar pelo menos seu nome completo, título do capítulo e e-mail\n",
    "\n",
    "OBS: Apague todos os comentários após fazer o seu exercício\n",
    "--->"
   ]
  },
  {
   "cell_type": "markdown",
   "metadata": {},
   "source": [
    "# Atividade 1: Saída Markdown"
   ]
  },
  {
   "cell_type": "markdown",
   "metadata": {},
   "source": [
    "### Exemplo 1: Saídas do IPython"
   ]
  },
  {
   "cell_type": "code",
   "execution_count": null,
   "metadata": {},
   "outputs": [],
   "source": []
  },
  {
   "cell_type": "markdown",
   "metadata": {},
   "source": [
    "**Audio:**"
   ]
  },
  {
   "cell_type": "code",
   "execution_count": null,
   "metadata": {},
   "outputs": [],
   "source": []
  },
  {
   "cell_type": "markdown",
   "metadata": {},
   "source": [
    "**Imagem:**"
   ]
  },
  {
   "cell_type": "code",
   "execution_count": null,
   "metadata": {},
   "outputs": [],
   "source": []
  },
  {
   "cell_type": "markdown",
   "metadata": {},
   "source": [
    "**Youtube:**"
   ]
  },
  {
   "cell_type": "code",
   "execution_count": null,
   "metadata": {},
   "outputs": [],
   "source": []
  },
  {
   "cell_type": "markdown",
   "metadata": {},
   "source": [
    "**Código HTML (Linguagem da Web):**"
   ]
  },
  {
   "cell_type": "code",
   "execution_count": null,
   "metadata": {},
   "outputs": [],
   "source": []
  },
  {
   "cell_type": "markdown",
   "metadata": {},
   "source": [
    "**Um site (IFrame):**"
   ]
  },
  {
   "cell_type": "code",
   "execution_count": null,
   "metadata": {},
   "outputs": [],
   "source": []
  },
  {
   "cell_type": "markdown",
   "metadata": {},
   "source": [
    "### Exemplo 2: Função Markdown"
   ]
  },
  {
   "cell_type": "markdown",
   "metadata": {},
   "source": [
    "**Exemplo simples:**"
   ]
  },
  {
   "cell_type": "code",
   "execution_count": null,
   "metadata": {},
   "outputs": [],
   "source": []
  },
  {
   "cell_type": "markdown",
   "metadata": {},
   "source": [
    "**Corrigindo com a função `display()`:**"
   ]
  },
  {
   "cell_type": "code",
   "execution_count": null,
   "metadata": {},
   "outputs": [],
   "source": []
  },
  {
   "cell_type": "markdown",
   "metadata": {},
   "source": [
    "**Criando a função `md()`**:"
   ]
  },
  {
   "cell_type": "code",
   "execution_count": null,
   "metadata": {},
   "outputs": [],
   "source": []
  },
  {
   "cell_type": "code",
   "execution_count": null,
   "metadata": {},
   "outputs": [],
   "source": []
  },
  {
   "cell_type": "markdown",
   "metadata": {},
   "source": [
    "### Exemplo 3: Markdown com Multi-linha"
   ]
  },
  {
   "cell_type": "code",
   "execution_count": null,
   "metadata": {},
   "outputs": [],
   "source": []
  },
  {
   "cell_type": "markdown",
   "metadata": {},
   "source": [
    "### Exemplo 4: Markdown e interação com o usuário"
   ]
  },
  {
   "cell_type": "markdown",
   "metadata": {},
   "source": [
    "Vamos mostrar um pequeno exemplo em que é possível criar uma interação com o usuário:"
   ]
  },
  {
   "cell_type": "markdown",
   "metadata": {},
   "source": [
    "**Carregando as bibliotecas:**"
   ]
  },
  {
   "cell_type": "code",
   "execution_count": null,
   "metadata": {},
   "outputs": [],
   "source": []
  },
  {
   "cell_type": "markdown",
   "metadata": {},
   "source": [
    "**Método `.splitlines()`:**\n",
    "\n",
    "Testando a interação:"
   ]
  },
  {
   "cell_type": "code",
   "execution_count": null,
   "metadata": {},
   "outputs": [],
   "source": []
  },
  {
   "cell_type": "markdown",
   "metadata": {},
   "source": [
    "Testando a saída:"
   ]
  },
  {
   "cell_type": "markdown",
   "metadata": {},
   "source": [
    "**Método `.replace()` combinado com o método `isalpha()`:**"
   ]
  },
  {
   "cell_type": "code",
   "execution_count": null,
   "metadata": {},
   "outputs": [],
   "source": []
  },
  {
   "cell_type": "markdown",
   "metadata": {},
   "source": [
    "**Método `.split()`**"
   ]
  },
  {
   "cell_type": "markdown",
   "metadata": {},
   "source": [
    "Vamos utilizar o método `.split()` para adicionar suporter ao preço:"
   ]
  },
  {
   "cell_type": "markdown",
   "metadata": {},
   "source": [
    "Testando a saída:"
   ]
  },
  {
   "cell_type": "code",
   "execution_count": null,
   "metadata": {},
   "outputs": [],
   "source": []
  },
  {
   "cell_type": "markdown",
   "metadata": {},
   "source": [
    "Adicionando a saída:"
   ]
  },
  {
   "cell_type": "code",
   "execution_count": null,
   "metadata": {},
   "outputs": [],
   "source": []
  },
  {
   "cell_type": "markdown",
   "metadata": {},
   "source": [
    "**Praticando `try` e `except`:**\n",
    "\n",
    "Para corrigir o erro vamos criar uma função."
   ]
  },
  {
   "cell_type": "code",
   "execution_count": null,
   "metadata": {},
   "outputs": [],
   "source": []
  },
  {
   "cell_type": "markdown",
   "metadata": {},
   "source": [
    "**Adicionando suporte ao português:**"
   ]
  },
  {
   "cell_type": "markdown",
   "metadata": {},
   "source": [
    "Substituindo `,` por `.`"
   ]
  },
  {
   "cell_type": "code",
   "execution_count": null,
   "metadata": {},
   "outputs": [],
   "source": []
  },
  {
   "cell_type": "markdown",
   "metadata": {},
   "source": [
    "Colocando o preço em português:"
   ]
  },
  {
   "cell_type": "code",
   "execution_count": null,
   "metadata": {},
   "outputs": [],
   "source": []
  },
  {
   "cell_type": "markdown",
   "metadata": {},
   "source": [
    "**Método `.strip()`:**"
   ]
  },
  {
   "cell_type": "markdown",
   "metadata": {},
   "source": [
    "Permitindo que o item seja mostrado mesmo sem o preço:"
   ]
  },
  {
   "cell_type": "code",
   "execution_count": null,
   "metadata": {},
   "outputs": [],
   "source": []
  },
  {
   "cell_type": "markdown",
   "metadata": {},
   "source": [
    "#### Tarefa 1: Lista de compras"
   ]
  },
  {
   "cell_type": "markdown",
   "metadata": {},
   "source": [
    "Adicione ao Exemplo 1:\n",
    "\n",
    "- Suporte a quantidade de itens\n",
    "- Cálculo do gasto total com as compras.\n",
    "\n",
    "A entrada de um item na lista do usuário deve ser da seguinte forma:\n",
    "\n",
    "> `[Item] - [Preço] - [Quantidade]`\n",
    "\n",
    "E ainda:\n",
    "- Se o usuário não digitar o preço o preço deve ser considerado nulo.\n",
    "- Se o usuário não digitar a quantidade a quantidade deverá ser consideradada como 1.\n",
    "\n",
    "> **Dica:** Use a notação `[i.strip() for i in Item]` para simplificar seu código."
   ]
  },
  {
   "cell_type": "markdown",
   "metadata": {},
   "source": [
    "**Solução:**"
   ]
  },
  {
   "cell_type": "code",
   "execution_count": null,
   "metadata": {},
   "outputs": [],
   "source": []
  },
  {
   "cell_type": "markdown",
   "metadata": {},
   "source": [
    "# Atividade 2: Tabelas"
   ]
  },
  {
   "cell_type": "markdown",
   "metadata": {},
   "source": [
    "### Exemplo 5: Trabalhando com Tabelas"
   ]
  },
  {
   "cell_type": "markdown",
   "metadata": {},
   "source": [
    "Criar Tabelas no Markdown é muito simples. Veja o exemplo abaixo:"
   ]
  },
  {
   "cell_type": "raw",
   "metadata": {},
   "source": []
  },
  {
   "cell_type": "markdown",
   "metadata": {},
   "source": [
    "|A esquerda (Padrão)|Centralizado|A direita|A esquerda|\n",
    "|-|:-:|-:|:-|\n",
    "|Valor 1|Valor 2|Valor 3|Valor 4|\n"
   ]
  },
  {
   "cell_type": "markdown",
   "metadata": {},
   "source": [
    "Ou ainda:"
   ]
  },
  {
   "cell_type": "raw",
   "metadata": {},
   "source": [
    "|A esquerda (Padrão)|Centralizado|A direita|A esquerda|\n",
    "|-------------------|:----------:|--------:|:---------|\n",
    "| Valor 1           |Valor 2     |Valor 3  |   Valor 4|"
   ]
  },
  {
   "cell_type": "markdown",
   "metadata": {},
   "source": [
    "|A esquerda (Padrão)|Centralizado|A direita|A esquerda|\n",
    "|-|:-:|-:|:-|\n",
    "|Valor 1|Valor 2|Valor 3|Valor 4|"
   ]
  },
  {
   "cell_type": "markdown",
   "metadata": {},
   "source": [
    "Você pode usar o site abaixo para criar tabelas facilmente:\n",
    "> [https://www.tablesgenerator.com/markdown_tables](https://www.tablesgenerator.com/markdown_tables)"
   ]
  },
  {
   "cell_type": "markdown",
   "metadata": {},
   "source": [
    "### Exemplo 6: Trabalhando com arquivos"
   ]
  },
  {
   "cell_type": "markdown",
   "metadata": {},
   "source": [
    "Em problemas práticos geralmente obtemos uma base de dados de algum arquivo externo, como o `.csv`.\n",
    "\n",
    "**Exemplo básico:**"
   ]
  },
  {
   "cell_type": "code",
   "execution_count": null,
   "metadata": {},
   "outputs": [],
   "source": []
  },
  {
   "cell_type": "markdown",
   "metadata": {},
   "source": [
    "**Usando o `*` para desempacotar a lista**:\n",
    "\n",
    "Alternativamente podemos utilizar o operador `*` para simplificar nosso programa:"
   ]
  },
  {
   "cell_type": "code",
   "execution_count": null,
   "metadata": {},
   "outputs": [],
   "source": []
  },
  {
   "cell_type": "markdown",
   "metadata": {},
   "source": [
    "**Leitura stream:**"
   ]
  },
  {
   "cell_type": "markdown",
   "metadata": {},
   "source": [
    "No exemplo anterior carregamos os dados inteiros na memória. Entretanto isso não é prático quando trabalhamos com tabelas muito grandes."
   ]
  },
  {
   "cell_type": "code",
   "execution_count": null,
   "metadata": {},
   "outputs": [],
   "source": []
  },
  {
   "cell_type": "markdown",
   "metadata": {},
   "source": [
    "Removendo a quebra de linha com o `strip()`."
   ]
  },
  {
   "cell_type": "code",
   "execution_count": null,
   "metadata": {},
   "outputs": [],
   "source": []
  },
  {
   "cell_type": "markdown",
   "metadata": {},
   "source": [
    "**Utilizando o bloco `with`:**\n",
    "\n",
    "O bloco `with` garante que o arquivo será fechado após a execução do bloco.\n",
    "\n",
    "> **Observação:** O `with` permite trabalhar com outros tipos de dados que também precisam ser fechados."
   ]
  },
  {
   "cell_type": "code",
   "execution_count": null,
   "metadata": {},
   "outputs": [],
   "source": []
  },
  {
   "cell_type": "markdown",
   "metadata": {},
   "source": [
    "**Utilizando o módulo `csv`:**"
   ]
  },
  {
   "cell_type": "markdown",
   "metadata": {},
   "source": [
    "Podemos trabalhar diretamente com os arquivos csv utilizando o módulo `csv`. Veja mais detalhes de como utilizar esse módulo [aqui](https://docs.python.org/pt-br/3/library/csv.html).\n",
    "\n",
    "Com o módulo `csv` não precisamos tratar a string com o `strip()` e `split()`."
   ]
  },
  {
   "cell_type": "code",
   "execution_count": null,
   "metadata": {},
   "outputs": [],
   "source": []
  },
  {
   "cell_type": "markdown",
   "metadata": {},
   "source": [
    "**Traduzindo para o português:**\n",
    "\n",
    "Desta vez iremos traduzir para o português utilizando o módulo `locale`."
   ]
  },
  {
   "cell_type": "code",
   "execution_count": null,
   "metadata": {},
   "outputs": [],
   "source": []
  },
  {
   "cell_type": "markdown",
   "metadata": {},
   "source": [
    "**Adicionando cor a tabela:**"
   ]
  },
  {
   "cell_type": "markdown",
   "metadata": {},
   "source": [
    "O Markdown não suporta nativamente cores, mas podemos utilizar HTML para isso. O código que permite adicionar cor no Markdown é apresentado abaixo:\n",
    "\n",
    "```html\n",
    "<span style=\"color:blue\">Texto *azul*</span>\n",
    "```\n",
    "<span style=\"color:blue\">Texto *azul*</span>\n",
    "\n",
    "Você pode procurar as cores no site na Wikipedia:\n",
    "\n",
    "> [https://en.wikipedia.org/wiki/Web_colors](https://en.wikipedia.org/wiki/Web_colors)\n",
    "\n",
    "\n",
    "Caso queira uma customização ainda maior. Você pode recorrer às cores Hexadecimais:\n",
    "\n",
    "> [https://www.w3schools.com/colors/colors_picker.asp](https://www.w3schools.com/colors/colors_picker.asp)\n",
    "\n",
    "> **Observação:** Além da cor, é possível utilizar o HTML para a customização de qualquer outro elemento, como a <span style=\"color:white;background-color:green\">cor de fundo</span>, por exemplo.\n",
    "\n",
    "Vamos colorir nossa tabela. Utilizaremos a notação:\n",
    "\n",
    "> `valor_verdadeiro if condição else valor_falso`"
   ]
  },
  {
   "cell_type": "code",
   "execution_count": null,
   "metadata": {},
   "outputs": [],
   "source": []
  },
  {
   "cell_type": "markdown",
   "metadata": {},
   "source": [
    "#### Tarefa 2: IMC"
   ]
  },
  {
   "cell_type": "markdown",
   "metadata": {},
   "source": [
    "Modifique o resultado final do Exemplo 6 e:\n",
    "\n",
    "- Adicione uma coluna na tabela que cálcule do Índice de Massa Corporal (IMC) da base de dados. A fórmula do IMC é dada abaixo:\n",
    "\n",
    "$$\n",
    "\\text{IMC}=\\frac{\\text{Peso}}{\\text{Altura}^2}\n",
    "$$\n",
    "\n",
    "- Adicione uma coluna que indica o resultado qualitativo do IMC conforme a Tabela abaixo:\n",
    "\n",
    "|IMC|Qualitativo|\n",
    "|:-:|:-:|\n",
    "|Menor que 18,5|Abaixo do peso|\n",
    "|Entre 18,5 e 24,9| Peso normal|\n",
    "|Maior que 24,9|Sobrepeso|\n",
    "  \n",
    "- Adicione cor na coluna no Qualitativo:\n",
    "   - `Orange` para abaixo do peso\n",
    "   - `Green` para peso normal\n",
    "   - `Red` para sobrepeso"
   ]
  },
  {
   "cell_type": "code",
   "execution_count": null,
   "metadata": {},
   "outputs": [],
   "source": []
  },
  {
   "cell_type": "markdown",
   "metadata": {},
   "source": [
    "### Exemplo 7: Tabelas dinâmicas"
   ]
  },
  {
   "cell_type": "markdown",
   "metadata": {},
   "source": [
    "**O widget dropdown (Exemplo simples):**"
   ]
  },
  {
   "cell_type": "code",
   "execution_count": null,
   "metadata": {},
   "outputs": [],
   "source": []
  },
  {
   "cell_type": "markdown",
   "metadata": {},
   "source": [
    "**Exemplo com preço:**"
   ]
  },
  {
   "cell_type": "code",
   "execution_count": null,
   "metadata": {},
   "outputs": [],
   "source": []
  },
  {
   "cell_type": "markdown",
   "metadata": {},
   "source": [
    "**Dropdown e tabelas:**"
   ]
  },
  {
   "cell_type": "code",
   "execution_count": null,
   "metadata": {},
   "outputs": [],
   "source": []
  },
  {
   "cell_type": "markdown",
   "metadata": {},
   "source": [
    " "
   ]
  },
  {
   "cell_type": "markdown",
   "metadata": {},
   "source": [
    "**Filtrando pela idade**"
   ]
  },
  {
   "cell_type": "code",
   "execution_count": null,
   "metadata": {},
   "outputs": [],
   "source": []
  },
  {
   "cell_type": "markdown",
   "metadata": {},
   "source": [
    "#### Tarefa 3: Tabela dinâmica\n",
    "\n",
    "Incremente a Tarefa 2 adicionando a possibilidade de:\n",
    "\n",
    "- Filtrar pelo sexo (Assim como no Exemplo 7)\n",
    "- Filtrar pela idade (Assim como no Exemplo 7)\n",
    "- Filtrar pelo qualitativo do IMC (Use um Dropdown)"
   ]
  },
  {
   "cell_type": "markdown",
   "metadata": {},
   "source": [
    "**Solução:**"
   ]
  },
  {
   "cell_type": "code",
   "execution_count": null,
   "metadata": {},
   "outputs": [],
   "source": []
  }
 ],
 "metadata": {
  "kernelspec": {
   "display_name": "Python 3",
   "language": "python",
   "name": "python3"
  },
  "language_info": {
   "codemirror_mode": {
    "name": "ipython",
    "version": 3
   },
   "file_extension": ".py",
   "mimetype": "text/x-python",
   "name": "python",
   "nbconvert_exporter": "python",
   "pygments_lexer": "ipython3",
   "version": "3.8.3"
  },
  "toc-autonumbering": false,
  "toc-showcode": false
 },
 "nbformat": 4,
 "nbformat_minor": 4
}
