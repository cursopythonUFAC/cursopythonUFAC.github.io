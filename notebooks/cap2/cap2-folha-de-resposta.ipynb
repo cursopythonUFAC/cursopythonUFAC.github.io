{
 "cells": [
  {
   "cell_type": "raw",
   "metadata": {},
   "source": [
    "<!---\n",
    "Escreva seu cabeçalho nesta célula \n",
    "\n",
    "Utilize o mesmo cabeçalho que fizemos em sala\n",
    "Não se esqueça de colocar pelo menos seu nome completo, título do capítulo e e-mail\n",
    "\n",
    "OBS: Apague todos os comentários após fazer o seu exercício\n",
    "--->"
   ]
  },
  {
   "cell_type": "markdown",
   "metadata": {},
   "source": [
    "### Exercício 1: Complete a frase\n",
    "\n",
    "Crie pequeno programa (uma ou mais células) capaz de produzir a seguinte frase:\n",
    "\n",
    "> \"Olá, meu nome é \\_\\_\\_\\_\\_\\_, tenho \\_\\_\\_ anos, e minha idade daqui a 5 anos será \\_\\_\\_.\"\n",
    "\n",
    "Tente construir a seguinte frase, utilizando `input()`, `print()` .\n",
    "\n",
    "- Utilize conversão de dados.\n",
    "- Reescreva o programa utilizando múltiplos dados de entrada na função `print()`\n",
    "\n",
    "> **Observação:** Não se esqueça de escrever o enunciado do programa em Markdown."
   ]
  },
  {
   "cell_type": "markdown",
   "metadata": {},
   "source": [
    "<!--- \n",
    "Escreva aqui o enunciado do seu programa\n",
    "Pense que o usuário deve ler o enunciado \n",
    "para saber o que o seu programa faz e como operá-lo -->"
   ]
  },
  {
   "cell_type": "code",
   "execution_count": null,
   "metadata": {},
   "outputs": [],
   "source": [
    "# Escreva aqui o seu programa"
   ]
  },
  {
   "cell_type": "markdown",
   "metadata": {},
   "source": [
    "## Exercício 2: Sentenças lógicas\n",
    "\n",
    "Escreva o resultado de cada uma das seguintes expressões em Markdown:\n",
    "\n",
    "- `(5 > 4) and (3 == 5)`\n",
    "- `not (5 > 4)`\n",
    "- `(5 > 4) or (3 == 5)`\n",
    "- `not ((5 > 4) or (3 == 5))`\n",
    "- `(True and True) and (True == False)`\n",
    "- `(not False) or (not True)`\n",
    "\n",
    "> **Observação:** Não vale colar no Python em gente 😅. Usem o 🧠!"
   ]
  },
  {
   "cell_type": "raw",
   "metadata": {},
   "source": [
    "<!---\n",
    "Escreva aqui sua resposta\n",
    "Apague isso na hora de escrever a resposta.\n",
    "-->"
   ]
  },
  {
   "cell_type": "markdown",
   "metadata": {},
   "source": [
    "## Exercício 3: Semáforo\n",
    "\n",
    "Um semáforo comum costuma ter de 2 a 4 fases e mais uma fase para os pedestres.\n",
    "Crie uma expressão que represente um semáforo, as setas abaixo indicam o fluxo.\n",
    "\n",
    "```\n",
    "    ⇊          N\n",
    "  ⇆   ⇆      L   O\n",
    "    ⇵          S\n",
    "```\n",
    "\n",
    "Crie uma expressão para cada uma das fases deste cruzamento."
   ]
  },
  {
   "cell_type": "markdown",
   "metadata": {},
   "source": [
    "<!--- \n",
    "Escreva aqui o enunciado do seu programa\n",
    "Pense que o usuário deve ler o enunciado \n",
    "para saber o que o seu programa faz e como operá-lo -->"
   ]
  },
  {
   "cell_type": "code",
   "execution_count": null,
   "metadata": {},
   "outputs": [],
   "source": [
    "# Escreva aqui o seu programa"
   ]
  },
  {
   "cell_type": "markdown",
   "metadata": {},
   "source": [
    "## Exercício 4: Ano bissexto\n",
    "\n",
    "Escreva uma expressão (em função de uma incógnita ano) que resulte `True` caso o ano seja bissexto e False caso contrário."
   ]
  },
  {
   "cell_type": "markdown",
   "metadata": {},
   "source": [
    "<!--- \n",
    "Escreva aqui o enunciado do seu programa\n",
    "Pense que o usuário deve ler o enunciado \n",
    "para saber o que o seu programa faz e como operá-lo -->"
   ]
  },
  {
   "cell_type": "code",
   "execution_count": null,
   "metadata": {},
   "outputs": [],
   "source": [
    "# Escreva aqui o seu programa"
   ]
  }
 ],
 "metadata": {
  "kernelspec": {
   "display_name": "Python 3",
   "language": "python",
   "name": "python3"
  },
  "language_info": {
   "codemirror_mode": {
    "name": "ipython",
    "version": 3
   },
   "file_extension": ".py",
   "mimetype": "text/x-python",
   "name": "python",
   "nbconvert_exporter": "python",
   "pygments_lexer": "ipython3",
   "version": "3.8.3"
  }
 },
 "nbformat": 4,
 "nbformat_minor": 4
}
