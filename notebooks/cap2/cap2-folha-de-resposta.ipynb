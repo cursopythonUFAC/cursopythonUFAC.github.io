{
 "cells": [
  {
   "cell_type": "raw",
   "metadata": {},
   "source": [
    "<!---\n",
    "Escreva seu cabeçalho nesta célula \n",
    "\n",
    "Utilize o mesmo cabeçalho que fizemos em sala\n",
    "Não se esqueça de colocar pelo menos seu nome completo, título do capítulo e e-mail\n",
    "\n",
    "OBS: Apague todos os comentários após fazer o seu exercício\n",
    "--->"
   ]
  },
  {
   "cell_type": "markdown",
   "metadata": {},
   "source": [
    "## Exercício 1: Lista de compras\n",
    "\n",
    "Crie um código, que faça uma lista de estoque formatada com largura máxima de cada linha de 50 caracteres, ela deverá informar o nome do item e a sua quantidade disponível. O código deverá pedir o usuário que entre com o nome e quantidade de pelo menos 3 itens. Considere que a quantidade máxima de cada item seja 999. Use como modelo a lista abaixo e use o método `.format`.\n",
    "```\n",
    "_________________Lista de estoque_________________\n",
    "Item-----------------------------------------Quant\n",
    "Item 1: Caixa de Leite-------------------------002\n",
    "Item 2: Caixa de cereal------------------------024\n",
    "Item 3: Lata de refrigerante-------------------255 \n",
    "```\n",
    "\n",
    "> Dica: Digite um `print()` para cada linha, e depois repita-o trocando os argumentos, use o seguinte código para começar.\n",
    "\n",
    "Siga como base o exemplo abaixo:\n",
    "\n",
    "```python\n",
    "'''\n",
    "INSIRA AQUI SEU CÓDIGO DE ENTRADA DE DADOS\n",
    "'''\n",
    "print(\"{:_^50}\".format('Lista de estoque'))\n",
    "print(\"{:-<45}{}\".format(\"Item\",\"Quant\"))\n",
    "print(\"<SEU CÓDIGO AQUI>\")\n",
    "print(\"<SEU CÓDIGO AQUI>\")\n",
    "print(\"<SEU CÓDIGO AQUI>\")\n",
    "```\n"
   ]
  },
  {
   "cell_type": "markdown",
   "metadata": {},
   "source": [
    "<!--- \n",
    "Escreva aqui o enunciado do seu programa\n",
    "Pense que o usuário deve ler o enunciado \n",
    "para saber o que o seu programa faz e como operá-lo -->"
   ]
  },
  {
   "cell_type": "code",
   "execution_count": null,
   "metadata": {},
   "outputs": [],
   "source": [
    "# Escreva aqui o seu programa"
   ]
  },
  {
   "cell_type": "markdown",
   "metadata": {},
   "source": [
    "## Exercício 2: Sentenças lógicas\n",
    "\n",
    "Escreva o resultado de cada uma das seguintes expressões em Markdown:\n",
    "\n",
    "- `(5 > 4) and (3 == 5)`\n",
    "- `not (5 > 4)`\n",
    "- `(5 > 4) or (3 == 5)`\n",
    "- `not ((5 > 4) or (3 == 5))`\n",
    "- `(True and True) and (True == False)`\n",
    "- `(not False) or (not True)`\n",
    "\n",
    "> **Observação:** Não vale colar no Python em gente 😅. Usem o 🧠!"
   ]
  },
  {
   "cell_type": "raw",
   "metadata": {},
   "source": [
    "<!---\n",
    "Escreva aqui sua resposta\n",
    "Apague isso na hora de escrever a resposta.\n",
    "-->"
   ]
  },
  {
   "cell_type": "markdown",
   "metadata": {},
   "source": [
    "## Exercício 3: Semáforo\n",
    "\n",
    "Um semáforo comum costuma ter de 2 a 4 fases e mais uma fase para os pedestres.\n",
    "Crie uma expressão que represente um semáforo, as setas abaixo indicam o fluxo.\n",
    "\n",
    "```\n",
    "    ⇊          N\n",
    "  ⇆   ⇆      L   O\n",
    "    ⇵          S\n",
    "```\n",
    "\n",
    "Crie uma expressão para cada uma das fases deste cruzamento."
   ]
  },
  {
   "cell_type": "markdown",
   "metadata": {},
   "source": [
    "<!--- \n",
    "Escreva aqui o enunciado do seu programa\n",
    "Pense que o usuário deve ler o enunciado \n",
    "para saber o que o seu programa faz e como operá-lo -->"
   ]
  },
  {
   "cell_type": "code",
   "execution_count": null,
   "metadata": {},
   "outputs": [],
   "source": [
    "# Escreva aqui o seu programa"
   ]
  },
  {
   "cell_type": "markdown",
   "metadata": {},
   "source": [
    "## Exercício 4: Ano bissexto\n",
    "\n",
    "Escreva uma expressão (em função de uma incógnita ano) que resulte `True` caso o ano seja bissexto e False caso contrário."
   ]
  },
  {
   "cell_type": "markdown",
   "metadata": {},
   "source": [
    "<!--- \n",
    "Escreva aqui o enunciado do seu programa\n",
    "Pense que o usuário deve ler o enunciado \n",
    "para saber o que o seu programa faz e como operá-lo -->"
   ]
  },
  {
   "cell_type": "code",
   "execution_count": null,
   "metadata": {},
   "outputs": [],
   "source": [
    "# Escreva aqui o seu programa"
   ]
  }
 ],
 "metadata": {
  "kernelspec": {
   "display_name": "Python 3",
   "language": "python",
   "name": "python3"
  },
  "language_info": {
   "codemirror_mode": {
    "name": "ipython",
    "version": 3
   },
   "file_extension": ".py",
   "mimetype": "text/x-python",
   "name": "python",
   "nbconvert_exporter": "python",
   "pygments_lexer": "ipython3",
   "version": "3.8.3"
  }
 },
 "nbformat": 4,
 "nbformat_minor": 4
}
