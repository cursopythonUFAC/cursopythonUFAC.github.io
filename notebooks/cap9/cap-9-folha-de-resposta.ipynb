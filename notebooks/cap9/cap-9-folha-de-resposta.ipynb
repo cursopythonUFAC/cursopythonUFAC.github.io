{
 "cells": [
  {
   "cell_type": "markdown",
   "metadata": {},
   "source": [
    "<center><div style=\"font-size:32px;display:inline-block;line-height:1.1;font-weight:bold;margin:0 0 15px\" class=\"aula-title\">Capítulo 9: Dicionários e pandas</div></center>"
   ]
  },
  {
   "cell_type": "raw",
   "metadata": {},
   "source": [
    "<!---\n",
    "Escreva seu cabeçalho nesta célula \n",
    "\n",
    "Utilize o mesmo cabeçalho que fizemos em sala\n",
    "Não se esqueça de colocar pelo menos seu nome completo, título do capítulo e e-mail\n",
    "\n",
    "OBS: Apague todos os comentários após fazer o seu exercício\n",
    "--->"
   ]
  },
  {
   "cell_type": "markdown",
   "metadata": {},
   "source": [
    "### Exercício 1: extração de datasets\n",
    "\n",
    "Extraia outros dois conjuntos de dados de sua preferência e faça uma análise sobre ele em markdown. Abordando as características, possíveis problemas de negócio. \n",
    "\n",
    "> Não entre no mérito de código."
   ]
  },
  {
   "cell_type": "code",
   "execution_count": null,
   "metadata": {},
   "outputs": [],
   "source": []
  },
  {
   "cell_type": "markdown",
   "metadata": {},
   "source": [
    "### Exercício 2: identificação de problemas no dataset `precipitacao.xlsx`\n",
    "\n",
    "Aponte eventuais problemas no arquivo `precipitacao.xlsx`, com relação aos tipos de dados, *NaN*, etc."
   ]
  },
  {
   "cell_type": "code",
   "execution_count": null,
   "metadata": {},
   "outputs": [],
   "source": []
  },
  {
   "cell_type": "markdown",
   "metadata": {},
   "source": [
    "### Exercício 3: extração de informações estatísticas\n",
    "\n",
    "Extraia informações estatísticas do conjunto de dados de ações. Faça para outros 5 ativos.\n",
    "\n",
    "> A sintaxe adotada pelo site do *Yahoo Finance* é: CODIGODAACAO.SA."
   ]
  },
  {
   "cell_type": "code",
   "execution_count": null,
   "metadata": {},
   "outputs": [],
   "source": []
  },
  {
   "cell_type": "markdown",
   "metadata": {},
   "source": [
    "### Exercício 4: série temporal e `Datetime`\n",
    "\n",
    "Utilizando o arquivo `precipitacao.xlsx`, deixe-a no formato de uma série temporal.\n",
    "\n",
    "> Lembre-se que uma série temporal contém as datas como index."
   ]
  },
  {
   "cell_type": "code",
   "execution_count": null,
   "metadata": {},
   "outputs": [],
   "source": []
  }
 ],
 "metadata": {
  "kernelspec": {
   "display_name": "Python 3",
   "language": "python",
   "name": "python3"
  },
  "language_info": {
   "codemirror_mode": {
    "name": "ipython",
    "version": 3
   },
   "file_extension": ".py",
   "mimetype": "text/x-python",
   "name": "python",
   "nbconvert_exporter": "python",
   "pygments_lexer": "ipython3",
   "version": "3.8.3"
  }
 },
 "nbformat": 4,
 "nbformat_minor": 4
}
