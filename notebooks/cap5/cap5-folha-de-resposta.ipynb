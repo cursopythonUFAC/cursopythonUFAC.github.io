{
 "cells": [
  {
   "cell_type": "raw",
   "metadata": {},
   "source": [
    "<!---\n",
    "Escreva seu cabeçalho nesta célula \n",
    "\n",
    "Utilize o mesmo cabeçalho que fizemos em sala\n",
    "Não se esqueça de colocar pelo menos seu nome completo, título do capítulo e e-mail\n",
    "\n",
    "OBS: Apague todos os comentários após fazer o seu exercício\n",
    "--->"
   ]
  },
  {
   "cell_type": "markdown",
   "metadata": {},
   "source": [
    "## Exercício 1: Expoente ímpares\n",
    "\n",
    "Aprimore a **Tarefa 5** para expoentes ímpares.\n",
    "\n",
    "> **Dica:** reutilize o código."
   ]
  },
  {
   "cell_type": "code",
   "execution_count": null,
   "metadata": {},
   "outputs": [],
   "source": [
    "# Escreva aqui o seu programa"
   ]
  },
  {
   "cell_type": "markdown",
   "metadata": {},
   "source": [
    "## Exercício 2: Calculando fatorial\n",
    "\n",
    "Faça um programa que calcule o fatorial de um número mostrando as suas multiplicações para o usuário. Também imprima o valor final.\n",
    "\n",
    "> **Dica:** por definição, o fatorial de um número n é: n! = 1 x 2 x 3 x ... x (n - 1) x n. Exemplo: 3! = 3 x 2 x 1; 5! = 5 x 4 x 3 x 2 x 1."
   ]
  },
  {
   "cell_type": "code",
   "execution_count": null,
   "metadata": {},
   "outputs": [],
   "source": [
    "# Escreva aqui o seu programa"
   ]
  },
  {
   "cell_type": "markdown",
   "metadata": {},
   "source": [
    "## Exercício 3: Lista de compras\n",
    "\n",
    "Paulo tem apenas R<span>\\$</span> 200,00 e decide ir ao supermercado. Ele pede para que você faça um programa simples que adiciona produtos em sua cesta enquanto o valor total não ultrapassar o que tem em mãos. \n",
    "\n",
    "| Produto             | Valor                     | Quantidade desejada |\n",
    "| ------------------- | ------------------------- | ------------------- |\n",
    "| Sabão em pó         | R<span>\\$</span> 5,00     | 2                   |\n",
    "| Arroz               | R<span>\\$</span> 40,00/kg | 2                   |\n",
    "| Energético          | R<span>\\$</span> 8,00     | 5                   |\n",
    "| Produtos de limpeza | R<span>\\$</span> 55,00    | 1                   |\n",
    "| Picanha             | R<span>\\$</span> 70,00/kg | 2,5                 |"
   ]
  },
  {
   "cell_type": "code",
   "execution_count": null,
   "metadata": {},
   "outputs": [],
   "source": [
    "# Escreva aqui o seu programa"
   ]
  },
  {
   "cell_type": "markdown",
   "metadata": {},
   "source": [
    "## Exercício 4: Imprmindo números\n",
    "\n",
    "Imprima todos os números sejam menores que 100 quando elevados ao quadrado.\n",
    "\n",
    "> **Sugestão:** Utilize `def`"
   ]
  },
  {
   "cell_type": "code",
   "execution_count": null,
   "metadata": {},
   "outputs": [],
   "source": [
    "# Escreva aqui o seu programa"
   ]
  },
  {
   "cell_type": "markdown",
   "metadata": {},
   "source": [
    "## Exercício 5: Fluxogramas\n",
    "\n",
    "Crie fluxogramas que representem esses dois códigos.\n",
    "\n",
    "> **Dica:** Você pode utilizar o `mermaid` em uma célula Markdown que é habilitado através da extensão `@agoose77/jupyterlab-markup` (Ver capítulo 4). A documentação do `mermaid` está disponível [aqui](https://mermaid-js.github.io/mermaid/diagrams-and-syntax-and-examples/flowchart.html), e existe um editor online disponível [aqui](https://mermaid-js.github.io/mermaid-live-editor/).\n",
    "\n",
    "**Código 1:**\n",
    "\n",
    "```python\n",
    "i = 0\n",
    "j = 10\n",
    "n = 0\n",
    "while i < j :\n",
    "\ti = i + 1\n",
    "\tj = j − 1\n",
    "\tn = n + 1\n",
    "```\n",
    "\n",
    "**Código 2:**\n",
    "\n",
    "```python\n",
    "i = 0\n",
    "j = 10\n",
    "n = 0\n",
    "while i != j :\n",
    "\ti = i + 2\n",
    "\tj = j – 2\n",
    "\tn = n + 1\n",
    "```"
   ]
  },
  {
   "cell_type": "raw",
   "metadata": {},
   "source": [
    "<!--- Troque essa célula para Markdown e escreva os diagramas aqui -->\n",
    "\n",
    "**Código 1**\n",
    "\n",
    "```mermaid\n",
    "\n",
    "```\n",
    "\n",
    "**Código 2:**\n",
    "\n",
    "```mermaid\n",
    "\n",
    "```"
   ]
  }
 ],
 "metadata": {
  "kernelspec": {
   "display_name": "Python 3",
   "language": "python",
   "name": "python3"
  },
  "language_info": {
   "codemirror_mode": {
    "name": "ipython",
    "version": 3
   },
   "file_extension": ".py",
   "mimetype": "text/x-python",
   "name": "python",
   "nbconvert_exporter": "python",
   "pygments_lexer": "ipython3",
   "version": "3.8.5"
  }
 },
 "nbformat": 4,
 "nbformat_minor": 4
}
