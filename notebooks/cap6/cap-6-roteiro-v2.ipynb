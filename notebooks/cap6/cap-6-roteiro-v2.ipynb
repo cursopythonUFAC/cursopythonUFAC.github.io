{
 "cells": [
  {
   "cell_type": "markdown",
   "metadata": {},
   "source": [
    "# Cap 6 Widgets"
   ]
  },
  {
   "cell_type": "raw",
   "metadata": {},
   "source": [
    "<!---\n",
    "Escreva seu cabeçalho nesta célula \n",
    "\n",
    "Utilize o mesmo cabeçalho que fizemos em sala\n",
    "Não se esqueça de colocar pelo menos seu nome completo, título do capítulo e e-mail\n",
    "\n",
    "OBS: Apague todos os comentários após fazer o seu exercício\n",
    "--->"
   ]
  },
  {
   "cell_type": "markdown",
   "metadata": {},
   "source": [
    "# Atividade 1: Introdução aos Widgets"
   ]
  },
  {
   "cell_type": "markdown",
   "metadata": {},
   "source": [
    "## Exemplo 1: Adicionando suporte à Widgets"
   ]
  },
  {
   "cell_type": "markdown",
   "metadata": {},
   "source": [
    "**Adicionando o primeiro Widget**"
   ]
  },
  {
   "cell_type": "code",
   "execution_count": null,
   "metadata": {},
   "outputs": [],
   "source": [
    "import ipywidgets as widget #Importando o pacote com o apelido de widgets\n",
    "widget.IntSlider() #Inicializando um IntSlider"
   ]
  },
  {
   "cell_type": "markdown",
   "metadata": {},
   "source": [
    "**Mostrando o Widget com a função display**"
   ]
  },
  {
   "cell_type": "code",
   "execution_count": null,
   "metadata": {},
   "outputs": [],
   "source": [
    "from ipywidgets import IntSlider #Importando a função IntSlider\n",
    "from IPython.display import display #Importando a função display\n",
    "\n",
    "slider=IntSlider() #Inicializando o IntSlider\n",
    "display(slider) #Mostra o slider"
   ]
  },
  {
   "cell_type": "markdown",
   "metadata": {},
   "source": [
    "**Removendo a linha de importação**\n",
    "> Reinicie o Kernel e teste!"
   ]
  },
  {
   "cell_type": "code",
   "execution_count": null,
   "metadata": {},
   "outputs": [],
   "source": [
    "from ipywidgets import IntSlider #Importando a função IntSlider\n",
    "\n",
    "slider=IntSlider() #Inicializando o IntSlider\n",
    "display(slider) #Mostra o slider"
   ]
  },
  {
   "cell_type": "markdown",
   "metadata": {},
   "source": [
    "### Tarefa 1: Outros widgets\n",
    "Além do `IntSlider` existe uma extensa lista de Widgets. \n",
    "\n",
    "Tente inicializar e mostrar os seguintes Widgets:\n",
    "\n",
    "- Text\n",
    "- CheckBox\n",
    "- FloatSlider"
   ]
  },
  {
   "cell_type": "markdown",
   "metadata": {},
   "source": [
    "**Solução:**"
   ]
  },
  {
   "cell_type": "code",
   "execution_count": 4,
   "metadata": {},
   "outputs": [
    {
     "data": {
      "application/vnd.jupyter.widget-view+json": {
       "model_id": "dd31b7721dcf42989f9b13d68e361aa6",
       "version_major": 2,
       "version_minor": 0
      },
      "text/plain": [
       "Checkbox(value=False)"
      ]
     },
     "metadata": {},
     "output_type": "display_data"
    },
    {
     "data": {
      "application/vnd.jupyter.widget-view+json": {
       "model_id": "db6a88abaf444d8b8fb9c3c43f476ebb",
       "version_major": 2,
       "version_minor": 0
      },
      "text/plain": [
       "Text(value='')"
      ]
     },
     "metadata": {},
     "output_type": "display_data"
    }
   ],
   "source": [
    "import ipywidgets as widget #Importando os Widgets\n",
    "from IPython.display import display #Importando a função display\n",
    "\n",
    "fSlider=widget.FloatSlider() #Inicializando o widget\n",
    "display(fSlider) #Mostra o widget\n",
    "\n",
    "Cbox=widget.Checkbox() #Inicializando o widget\n",
    "display(Cbox) #Mostra o widget\n",
    "\n",
    "Txt=widget.Text() #Inicializando o widget\n",
    "display(Txt) #Mostra o widget"
   ]
  },
  {
   "cell_type": "markdown",
   "metadata": {},
   "source": [
    "## Exemplo 2: Customizando Widgets"
   ]
  },
  {
   "cell_type": "markdown",
   "metadata": {},
   "source": [
    "- `IntSlider`"
   ]
  },
  {
   "cell_type": "code",
   "execution_count": 5,
   "metadata": {},
   "outputs": [
    {
     "data": {
      "application/vnd.jupyter.widget-view+json": {
       "model_id": "cfa1c59cb4f04482a9870904a78f975b",
       "version_major": 2,
       "version_minor": 0
      },
      "text/plain": [
       "IntSlider(value=5, description='Número:', max=10)"
      ]
     },
     "metadata": {},
     "output_type": "display_data"
    }
   ],
   "source": [
    "import ipywidgets as widget #Importando o pacote com o apelido de widgets\n",
    "widget.IntSlider(\n",
    "    value=5, # Valor inicial\n",
    "    min=0, # Valor mínimo\n",
    "    max=10, # Valor máximo\n",
    "    step=1, # Passo\n",
    "    description='Número:' #Descrição\n",
    ")"
   ]
  },
  {
   "cell_type": "markdown",
   "metadata": {},
   "source": [
    "- `FloatSlider`"
   ]
  },
  {
   "cell_type": "code",
   "execution_count": 6,
   "metadata": {},
   "outputs": [
    {
     "data": {
      "application/vnd.jupyter.widget-view+json": {
       "model_id": "ff718133b64f4bcfb37abef274567e16",
       "version_major": 2,
       "version_minor": 0
      },
      "text/plain": [
       "FloatSlider(value=5.5, description='Decimal:', max=10.0, min=-10.0, step=0.5)"
      ]
     },
     "metadata": {},
     "output_type": "display_data"
    }
   ],
   "source": [
    "widget.FloatSlider(\n",
    "    value=5.5, # Valor inicial\n",
    "    min=-10.0, # Valor mínimo\n",
    "    max=10.0, # Valor máximo\n",
    "    step=0.5, # Passo\n",
    "    description='Decimal:' #Descrição\n",
    ")"
   ]
  },
  {
   "cell_type": "markdown",
   "metadata": {},
   "source": [
    "- `CheckBox`"
   ]
  },
  {
   "cell_type": "code",
   "execution_count": 7,
   "metadata": {},
   "outputs": [
    {
     "data": {
      "application/vnd.jupyter.widget-view+json": {
       "model_id": "08de6be36f68463f85b7e307a2bf9da7",
       "version_major": 2,
       "version_minor": 0
      },
      "text/plain": [
       "Checkbox(value=False, description='Booleano', indent=False)"
      ]
     },
     "metadata": {},
     "output_type": "display_data"
    }
   ],
   "source": [
    "widget.Checkbox(\n",
    "    value=False, # Valor inicial\n",
    "    description='Booleano', # Descrição\n",
    "    indent=False # Indentação\n",
    ")"
   ]
  },
  {
   "cell_type": "markdown",
   "metadata": {},
   "source": [
    "- `Text`"
   ]
  },
  {
   "cell_type": "code",
   "execution_count": 8,
   "metadata": {},
   "outputs": [
    {
     "data": {
      "application/vnd.jupyter.widget-view+json": {
       "model_id": "a66bca65b6a34ee5b45b0ba6d1421b63",
       "version_major": 2,
       "version_minor": 0
      },
      "text/plain": [
       "Text(value='', description='Nome: ', placeholder='Digite seu nome')"
      ]
     },
     "metadata": {},
     "output_type": "display_data"
    }
   ],
   "source": [
    "widget.Text(\n",
    "    value='', # Valor inicial\n",
    "    placeholder='Digite seu nome', #Nome que aparece quando não escreve nada\n",
    "    description='Nome: ' # Descrição\n",
    ")"
   ]
  },
  {
   "cell_type": "markdown",
   "metadata": {},
   "source": [
    "## Exemplo 3: Acessando os valores dos Widgets"
   ]
  },
  {
   "cell_type": "markdown",
   "metadata": {},
   "source": [
    "> Por enquanto, para trabalhar com widgets precisamos dividir o programa em **3 células**."
   ]
  },
  {
   "cell_type": "code",
   "execution_count": 9,
   "metadata": {},
   "outputs": [],
   "source": [
    "# Célula 1: Declarando o widget chamado Peso\n",
    "Peso = widget.FloatSlider(\n",
    "    value=5, # Valor inicial\n",
    "    min=30, # Valor mínimo\n",
    "    max=100, # Valor máximo\n",
    "    step=0.1, # Passo\n",
    "    description='Peso (kg):' # Descrição\n",
    ")"
   ]
  },
  {
   "cell_type": "code",
   "execution_count": 10,
   "metadata": {},
   "outputs": [
    {
     "data": {
      "application/vnd.jupyter.widget-view+json": {
       "model_id": "009273ffdbf34b939b1f3d1caa55e033",
       "version_major": 2,
       "version_minor": 0
      },
      "text/plain": [
       "FloatSlider(value=30.0, description='Peso (kg):', min=30.0)"
      ]
     },
     "metadata": {},
     "output_type": "display_data"
    }
   ],
   "source": [
    "# Célula 2: Mostrando o widget\n",
    "display(Peso)"
   ]
  },
  {
   "cell_type": "code",
   "execution_count": 11,
   "metadata": {},
   "outputs": [
    {
     "name": "stdout",
     "output_type": "stream",
     "text": [
      "O valor do peso é 30.0 kg.\n"
     ]
    }
   ],
   "source": [
    "# Célula 3: Mostrando o valor do Peso\n",
    "print(\"O valor do peso é {} kg.\".format(Peso.value))"
   ]
  },
  {
   "cell_type": "markdown",
   "metadata": {},
   "source": [
    "#Atividade 2: Interact"
   ]
  },
  {
   "cell_type": "markdown",
   "metadata": {},
   "source": [
    "## Exemplo 4: Introdução ao `Interact`"
   ]
  },
  {
   "cell_type": "code",
   "execution_count": 12,
   "metadata": {},
   "outputs": [
    {
     "data": {
      "application/vnd.jupyter.widget-view+json": {
       "model_id": "9ebb85f23c6841948cb49376a39c0ca0",
       "version_major": 2,
       "version_minor": 0
      },
      "text/plain": [
       "interactive(children=(IntSlider(value=5, description='x', max=15, min=-5), Output()), _dom_classes=('widget-in…"
      ]
     },
     "metadata": {},
     "output_type": "display_data"
    },
    {
     "data": {
      "text/plain": [
       "<function __main__.f(x)>"
      ]
     },
     "execution_count": 12,
     "metadata": {},
     "output_type": "execute_result"
    }
   ],
   "source": [
    "# Bloco principal (Nível 0)\n",
    "from ipywidgets import interact\n",
    "def f(x):\n",
    "    # Bloco 1 (Nível 0)\n",
    "    print(\"O valor de x é {:d}\".format(x))\n",
    "# Bloco principal (Nível 0)\n",
    "interact(f,#Bloco def que se deseja associar\n",
    "         x=5 #Variável ou widget\n",
    "        )"
   ]
  },
  {
   "cell_type": "code",
   "execution_count": 13,
   "metadata": {},
   "outputs": [
    {
     "data": {
      "text/plain": [
       "<function __main__.f(x)>"
      ]
     },
     "execution_count": 13,
     "metadata": {},
     "output_type": "execute_result"
    }
   ],
   "source": [
    "_"
   ]
  },
  {
   "cell_type": "code",
   "execution_count": 14,
   "metadata": {},
   "outputs": [
    {
     "data": {
      "application/vnd.jupyter.widget-view+json": {
       "model_id": "b0913943982f4a6ba15ea3eac742033c",
       "version_major": 2,
       "version_minor": 0
      },
      "text/plain": [
       "interactive(children=(IntSlider(value=5, description='x', max=15, min=-5), Output()), _dom_classes=('widget-in…"
      ]
     },
     "metadata": {},
     "output_type": "display_data"
    }
   ],
   "source": [
    "# Bloco principal (Nível 0)\n",
    "from ipywidgets import interact\n",
    "def f(x):\n",
    "    # Bloco 1 (Nível 0)\n",
    "    print(\"O valor de x é {}\".format(x))\n",
    "# Bloco principal (Nível 0)\n",
    "interact(f,x=5);"
   ]
  },
  {
   "cell_type": "markdown",
   "metadata": {},
   "source": [
    "### Tarefa 2: Exemplos de Widgets\n",
    "O tipo de Widget criado pela função `ìnteract()` depende do tipo de entrada. Repita o exemplo anterior considerando:\n",
    "\n",
    "- `x=2.0`\n",
    "- `x=1`\n",
    "- `x=True`\n",
    "- `x=\"\"`\n",
    "- `x=\"Digite o seu nome\"`"
   ]
  },
  {
   "cell_type": "markdown",
   "metadata": {},
   "source": [
    "**Solução:**"
   ]
  },
  {
   "cell_type": "code",
   "execution_count": 15,
   "metadata": {},
   "outputs": [
    {
     "data": {
      "application/vnd.jupyter.widget-view+json": {
       "model_id": "7c1dd0d10f7f4ba38b734d865b281d59",
       "version_major": 2,
       "version_minor": 0
      },
      "text/plain": [
       "interactive(children=(FloatSlider(value=2.0, description='x', max=6.0, min=-2.0), Output()), _dom_classes=('wi…"
      ]
     },
     "metadata": {},
     "output_type": "display_data"
    }
   ],
   "source": [
    "interact(f,x=2.0);"
   ]
  },
  {
   "cell_type": "code",
   "execution_count": 16,
   "metadata": {},
   "outputs": [
    {
     "data": {
      "application/vnd.jupyter.widget-view+json": {
       "model_id": "f8bb55be6a7c43fc817f267343bb8860",
       "version_major": 2,
       "version_minor": 0
      },
      "text/plain": [
       "interactive(children=(IntSlider(value=1, description='x', max=3, min=-1), Output()), _dom_classes=('widget-int…"
      ]
     },
     "metadata": {},
     "output_type": "display_data"
    }
   ],
   "source": [
    "interact(f,x=1);"
   ]
  },
  {
   "cell_type": "code",
   "execution_count": 17,
   "metadata": {},
   "outputs": [
    {
     "data": {
      "application/vnd.jupyter.widget-view+json": {
       "model_id": "2246fcfc2be3462cb38fab04b51510e5",
       "version_major": 2,
       "version_minor": 0
      },
      "text/plain": [
       "interactive(children=(Checkbox(value=True, description='x'), Output()), _dom_classes=('widget-interact',))"
      ]
     },
     "metadata": {},
     "output_type": "display_data"
    }
   ],
   "source": [
    "interact(f,x=True);"
   ]
  },
  {
   "cell_type": "code",
   "execution_count": 18,
   "metadata": {},
   "outputs": [
    {
     "data": {
      "application/vnd.jupyter.widget-view+json": {
       "model_id": "153189e11c9b4d7aa6af24babbabf81a",
       "version_major": 2,
       "version_minor": 0
      },
      "text/plain": [
       "interactive(children=(Text(value='', description='x'), Output()), _dom_classes=('widget-interact',))"
      ]
     },
     "metadata": {},
     "output_type": "display_data"
    }
   ],
   "source": [
    "interact(f,x=\"\");"
   ]
  },
  {
   "cell_type": "code",
   "execution_count": 19,
   "metadata": {},
   "outputs": [
    {
     "data": {
      "application/vnd.jupyter.widget-view+json": {
       "model_id": "f86b1e6eda234dbd88d39472d8f85a9c",
       "version_major": 2,
       "version_minor": 0
      },
      "text/plain": [
       "interactive(children=(Text(value='Digite seu nome aqui', description='x'), Output()), _dom_classes=('widget-in…"
      ]
     },
     "metadata": {},
     "output_type": "display_data"
    }
   ],
   "source": [
    "interact(f,x=\"Digite seu nome aqui\");"
   ]
  },
  {
   "cell_type": "markdown",
   "metadata": {},
   "source": [
    "## Exemplo 5: Usando a notação `@interact`"
   ]
  },
  {
   "cell_type": "code",
   "execution_count": 20,
   "metadata": {},
   "outputs": [
    {
     "data": {
      "application/vnd.jupyter.widget-view+json": {
       "model_id": "6e292eec45ec446b8bae0c1bc8308e88",
       "version_major": 2,
       "version_minor": 0
      },
      "text/plain": [
       "interactive(children=(IntSlider(value=5, description='x', max=15, min=-5), Output()), _dom_classes=('widget-in…"
      ]
     },
     "metadata": {},
     "output_type": "display_data"
    }
   ],
   "source": [
    "from ipywidgets import interact\n",
    "@interact(x=5)\n",
    "def f(x):\n",
    "    return print(\"O valor de x é {}.\".format(x))"
   ]
  },
  {
   "cell_type": "markdown",
   "metadata": {},
   "source": [
    "## Exemplo 6: Abreviações de Widgets"
   ]
  },
  {
   "cell_type": "markdown",
   "metadata": {},
   "source": [
    "`interact(x=5)` é o mesmo que:"
   ]
  },
  {
   "cell_type": "code",
   "execution_count": 21,
   "metadata": {},
   "outputs": [
    {
     "data": {
      "application/vnd.jupyter.widget-view+json": {
       "model_id": "3ef7aff5bbc94bb89158f492acd02998",
       "version_major": 2,
       "version_minor": 0
      },
      "text/plain": [
       "IntSlider(value=5, max=15, min=-5)"
      ]
     },
     "metadata": {},
     "output_type": "display_data"
    }
   ],
   "source": [
    "IntSlider(min=-5, max=15, step=1, value=5)"
   ]
  },
  {
   "cell_type": "markdown",
   "metadata": {},
   "source": [
    "Podemos obter o **mesmo resultado** passando como parâmetro de `x`:"
   ]
  },
  {
   "cell_type": "code",
   "execution_count": 22,
   "metadata": {},
   "outputs": [
    {
     "data": {
      "application/vnd.jupyter.widget-view+json": {
       "model_id": "b5c265263c514047b9cfeb36b1128c2f",
       "version_major": 2,
       "version_minor": 0
      },
      "text/plain": [
       "interactive(children=(IntSlider(value=5, description='x', max=15, min=-5), Output()), _dom_classes=('widget-in…"
      ]
     },
     "metadata": {},
     "output_type": "display_data"
    }
   ],
   "source": [
    "from ipywidgets import interact\n",
    "def f(x):\n",
    "    print(\"O valor de x é {}\".format(x))\n",
    "interact(f,x=widget.IntSlider(min=-5, max=15, step=1, value=5));"
   ]
  },
  {
   "cell_type": "markdown",
   "metadata": {},
   "source": [
    "Ou ainda:"
   ]
  },
  {
   "cell_type": "code",
   "execution_count": 23,
   "metadata": {},
   "outputs": [
    {
     "data": {
      "application/vnd.jupyter.widget-view+json": {
       "model_id": "98d8c55f46bd4a0aacedff8fa36a47b5",
       "version_major": 2,
       "version_minor": 0
      },
      "text/plain": [
       "interactive(children=(IntSlider(value=5, description='x', max=15, min=-5), Output()), _dom_classes=('widget-in…"
      ]
     },
     "metadata": {},
     "output_type": "display_data"
    }
   ],
   "source": [
    "from ipywidgets import interact\n",
    "@interact(x=widget.IntSlider(min=-5, max=15, step=1, value=5))\n",
    "def f(x):\n",
    "    print(\"O valor de x é {}\".format(x))"
   ]
  },
  {
   "cell_type": "markdown",
   "metadata": {},
   "source": [
    "Segue abaixo alguns argumentos:\n",
    "| Argumento                                                  | Widget      |\n",
    "| ---------------------------------------------------------- | ----------- |\n",
    "| Valor booleano: `True` ou `False`                          | Checkbox    |\n",
    "| String: `\"Uma frase\"` ou `\"\"`                              | Text        |\n",
    "| Inteiro: `valor`, `(min,max)` ou `(min,max,passo)`         | IntSlider   |\n",
    "| Ponto flutuante: `valor`, `(min,max)` ou `(min,max,passo)` | FloatSlider |"
   ]
  },
  {
   "cell_type": "markdown",
   "metadata": {},
   "source": [
    "`Intslider` limitado de $x\\in [0,10]$"
   ]
  },
  {
   "cell_type": "code",
   "execution_count": 24,
   "metadata": {},
   "outputs": [
    {
     "data": {
      "application/vnd.jupyter.widget-view+json": {
       "model_id": "dbecd26eb37f42199b42e40b7ab019a1",
       "version_major": 2,
       "version_minor": 0
      },
      "text/plain": [
       "interactive(children=(IntSlider(value=5, description='x', max=10), Output()), _dom_classes=('widget-interact',…"
      ]
     },
     "metadata": {},
     "output_type": "display_data"
    }
   ],
   "source": [
    "from ipywidgets import interact\n",
    "@interact(x=(0,10)) #widget.IntSlider(min=0, max=10)\n",
    "def f(x):\n",
    "    print(\"O valor de x é {}\".format(x))"
   ]
  },
  {
   "cell_type": "markdown",
   "metadata": {},
   "source": [
    "**Customizando slider de float:**"
   ]
  },
  {
   "cell_type": "code",
   "execution_count": 25,
   "metadata": {},
   "outputs": [
    {
     "data": {
      "application/vnd.jupyter.widget-view+json": {
       "model_id": "31be68ba70cf489d8a6acf26a74593df",
       "version_major": 2,
       "version_minor": 0
      },
      "text/plain": [
       "interactive(children=(FloatSlider(value=5.0, description='x', max=10.0, step=0.5), Output()), _dom_classes=('w…"
      ]
     },
     "metadata": {},
     "output_type": "display_data"
    }
   ],
   "source": [
    "from ipywidgets import interact\n",
    "@interact(x=(0.0,10.0,0.5))\n",
    "def f(x):\n",
    "    print(\"O valor de x é {}\".format(x))"
   ]
  },
  {
   "cell_type": "markdown",
   "metadata": {},
   "source": [
    "#### Tarefa 3: Volume e raio de uma esfera"
   ]
  },
  {
   "cell_type": "code",
   "execution_count": 26,
   "metadata": {},
   "outputs": [
    {
     "data": {
      "application/vnd.jupyter.widget-view+json": {
       "model_id": "f669ac079009452b830732f92e250e4b",
       "version_major": 2,
       "version_minor": 0
      },
      "text/plain": [
       "interactive(children=(FloatSlider(value=5.0, description='r', max=10.0, min=1.0), Output()), _dom_classes=('wi…"
      ]
     },
     "metadata": {},
     "output_type": "display_data"
    }
   ],
   "source": [
    "from math import pi\n",
    "\n",
    "@interact(r=(1,10,0.1))\n",
    "def calc_esfera(r):\n",
    "    A=4*pi*r**2\n",
    "    V=4/3*pi*r**3\n",
    "    print(\"Com o raio de {:.3g} m a área da esfera é {:.2f} m² e o volume é {:.2f} m³.\".format(r,A,V))"
   ]
  },
  {
   "cell_type": "markdown",
   "metadata": {},
   "source": [
    "## Exemplo 7: Widgets e gráficos"
   ]
  },
  {
   "cell_type": "markdown",
   "metadata": {},
   "source": [
    "**Gráfico de uma espiral**"
   ]
  },
  {
   "cell_type": "code",
   "execution_count": 27,
   "metadata": {},
   "outputs": [
    {
     "data": {
      "application/vnd.jupyter.widget-view+json": {
       "model_id": "c4b7c4fef12042b3a4aa8395db0b1a48",
       "version_major": 2,
       "version_minor": 0
      },
      "text/plain": [
       "interactive(children=(FloatSlider(value=0.0, description='n', max=2.0, min=-2.0), Output()), _dom_classes=('wi…"
      ]
     },
     "metadata": {},
     "output_type": "display_data"
    }
   ],
   "source": [
    "from sympy import symbols, sin, cos, pi #Importando symbols, sin, cos e pi\n",
    "from sympy.plotting import plot_parametric #Importando plot_parametric\n",
    "\n",
    "# Definindo um estilo para o gráfico\n",
    "from matplotlib import style \n",
    "style.use('seaborn-whitegrid')\n",
    "\n",
    "\n",
    "@interact(n=(-2.0,2.0,0.1)) # FloatSlider(min=-2.0,max=2.0,step=0.1)\n",
    "def plotando_espiral(n):\n",
    "    theta = symbols('θ')\n",
    "    x = theta**n*sin(theta)\n",
    "    y = theta**n*cos(theta)\n",
    "    plot_parametric(x,y,(theta,0,10*pi),\n",
    "          xlim=(-8,8.04),\n",
    "          ylim=(-8.06*15/23,8*15/23), #Multiplicado por 15/23 para manter a mesma proporção\n",
    "          title=\"Espiral com n={:.2f}\".format(n),\n",
    "          xlabel=\"\",\n",
    "          ylabel=\"\")"
   ]
  },
  {
   "cell_type": "markdown",
   "metadata": {},
   "source": [
    "**Corrigindo o exercício com o `if`**"
   ]
  },
  {
   "cell_type": "code",
   "execution_count": 28,
   "metadata": {},
   "outputs": [
    {
     "data": {
      "application/vnd.jupyter.widget-view+json": {
       "model_id": "a229980baf42435694efaf1c887e5908",
       "version_major": 2,
       "version_minor": 0
      },
      "text/plain": [
       "interactive(children=(FloatSlider(value=0.0, description='n', max=2.0, min=-2.0), Output()), _dom_classes=('wi…"
      ]
     },
     "metadata": {},
     "output_type": "display_data"
    }
   ],
   "source": [
    "from sympy import symbols, sin, cos, pi #Importando symbols, sin, cos e pi\n",
    "from sympy.plotting import plot_parametric #Importando plot_parametric\n",
    "from matplotlib import style\n",
    "style.use('seaborn-whitegrid')\n",
    "\n",
    "@interact(n=(-2,2.0,0.1))\n",
    "def plotando_espiral(n):\n",
    "    theta = symbols('θ')\n",
    "    x = theta**n*sin(theta)\n",
    "    y = theta**n*cos(theta)\n",
    "    if n==0:\n",
    "        título=\"Círculo\"\n",
    "    else:\n",
    "        título=\"Espiral com n={:.2f}\".format(n)\n",
    "    plot_parametric(x,y,(theta,0,10*pi),\n",
    "          xlim=(-8,8.04),\n",
    "          ylim=(-8.06*15/23,8*15/23), #Multiplicado por 15/23 para manter a mesma proporção\n",
    "          title=título,\n",
    "          xlabel=\"\",\n",
    "          ylabel=\"\")"
   ]
  },
  {
   "cell_type": "markdown",
   "metadata": {},
   "source": [
    "#### Tarefa 4: Inclinação da reta\n",
    "\n",
    "Uma reta fixada na origem tem a seguinte notação:\n",
    "\n",
    "$$\n",
    "f(x)=ax\n",
    "$$\n",
    "\n",
    "Crie um programa capaz de criar uma reta baseando-se no seu ângulo de inclinação $u$. Para criar a reta utilize a definição de $u$:\n",
    "\n",
    "$$\n",
    "u=\\tan^{-1}(a)\n",
    "$$\n",
    "\n",
    "ou ainda:\n",
    "$$\n",
    "a=\\tan(u)\n",
    "$$"
   ]
  },
  {
   "cell_type": "markdown",
   "metadata": {},
   "source": [
    "**Solução:**"
   ]
  },
  {
   "cell_type": "code",
   "execution_count": 29,
   "metadata": {},
   "outputs": [
    {
     "data": {
      "application/vnd.jupyter.widget-view+json": {
       "model_id": "973111d1a62147cd9b8634fe8fc43c49",
       "version_major": 2,
       "version_minor": 0
      },
      "text/plain": [
       "interactive(children=(FloatSlider(value=45.001, description='u', max=90.1, min=0.001), Output()), _dom_classes…"
      ]
     },
     "metadata": {},
     "output_type": "display_data"
    }
   ],
   "source": [
    "from sympy.plotting import plot #importando a função plot\n",
    "from sympy import tan, symbols #importando tan e symbols\n",
    "from ipywidgets import interact #importando interact\n",
    "from math import radians #importando radians\n",
    "from matplotlib import style\n",
    "style.use('seaborn-whitegrid')\n",
    "\n",
    "def reta_tangente(u):\n",
    "    x=symbols(\"x\") #Definindo a variável simbólica\n",
    "    a=tan(radians(u)) #\n",
    "    f=a*x\n",
    "    plot(f,(x,-4,4),\n",
    "            title=\"Reta com inclinação de {:.1f}°\".format(u),\n",
    "            xlim=(-4,4),\n",
    "            ylim=(-4,4),\n",
    "            ylabel=\"\",\n",
    "            xlabel=\"\"\n",
    "        )\n",
    "    \n",
    "interact(reta_tangente,u=(0.001,90.1,0.1));"
   ]
  },
  {
   "cell_type": "markdown",
   "metadata": {},
   "source": [
    "## Exemplo 8: Multiplos argumentos"
   ]
  },
  {
   "cell_type": "markdown",
   "metadata": {},
   "source": [
    "**Exemplo simples:**"
   ]
  },
  {
   "cell_type": "code",
   "execution_count": 30,
   "metadata": {},
   "outputs": [
    {
     "data": {
      "application/vnd.jupyter.widget-view+json": {
       "model_id": "06f580548edd4abd936702fa4c9d640f",
       "version_major": 2,
       "version_minor": 0
      },
      "text/plain": [
       "interactive(children=(FloatSlider(value=0.4, description='x', max=0.9), IntSlider(value=1, description='y', ma…"
      ]
     },
     "metadata": {},
     "output_type": "display_data"
    }
   ],
   "source": [
    "@interact(x=(0.0,0.9,0.1),y=(0,3))\n",
    "def soma(x,y):\n",
    "    s=x+y\n",
    "    print(\"A soma de {} + {} vale {}\".format(x,y,s))"
   ]
  },
  {
   "cell_type": "markdown",
   "metadata": {},
   "source": [
    "**Exemplo de uma reta:**"
   ]
  },
  {
   "cell_type": "markdown",
   "metadata": {},
   "source": [
    "Início:"
   ]
  },
  {
   "cell_type": "code",
   "execution_count": 31,
   "metadata": {},
   "outputs": [
    {
     "data": {
      "application/vnd.jupyter.widget-view+json": {
       "model_id": "a6f333c27ab54df4adfd9b5e41bf5357",
       "version_major": 2,
       "version_minor": 0
      },
      "text/plain": [
       "interactive(children=(FloatSlider(value=1.0, description='a', max=6.0, min=-6.0), FloatSlider(value=0.0, descr…"
      ]
     },
     "metadata": {},
     "output_type": "display_data"
    }
   ],
   "source": [
    "from sympy import symbols\n",
    "from sympy.plotting import plot\n",
    "from matplotlib import style\n",
    "import matplotlib.pyplot as plt\n",
    "from ipywidgets import interact\n",
    "import ipywidgets as widget\n",
    "style.use('seaborn-whitegrid')\n",
    "\n",
    "@interact(\n",
    "    a=widget.FloatSlider(min=-6,max=6,step=0.1,value=1),\n",
    "    b=(-6,6,0.1) \n",
    ")\n",
    "def eq_reta(a,b):\n",
    "    x = symbols('x')\n",
    "    y = a*x+b\n",
    "    plot(y,(x,-10,10),\n",
    "                xlim=(-6,6),\n",
    "                ylim=(-6*3/4,6*3/4),\n",
    "                title='$y(x)={:.2g}x{:+.2g}$'.format(a,b),\n",
    "                xlabel=\"$x$\",\n",
    "                ylabel=\"\"\n",
    "               )"
   ]
  },
  {
   "cell_type": "markdown",
   "metadata": {},
   "source": [
    "**Corrigindo a equação:**"
   ]
  },
  {
   "cell_type": "markdown",
   "metadata": {},
   "source": [
    "A equação não é mostrada adequadamente. Vamos corrigí-la utilizando `if` e concatenação de `strings`.\n",
    "\n",
    "A principio vamos seguir as seguintes regras:\n",
    "\n",
    "   - Quando $a=0$ e $b=0$ deve-se $y(x)=0$\n",
    "   - Quando $a=0$ ou $a=1$ deve-se omitir o $a$ na equação\n",
    "   - Quando $a=0$ deve-se omitir $x$ da equação\n",
    "   - Quando $b=0$ deve-se omitir o valor de $b$ na equação\n",
    "   - Quando $a\\neq 0$ e $b\\neq 0$ deve-se incluir o sinal de $b$"
   ]
  },
  {
   "cell_type": "code",
   "execution_count": 34,
   "metadata": {},
   "outputs": [
    {
     "data": {
      "application/vnd.jupyter.widget-view+json": {
       "model_id": "8af5ddeb347f4afa9c270336bc1d66db",
       "version_major": 2,
       "version_minor": 0
      },
      "text/plain": [
       "interactive(children=(FloatSlider(value=1.0, description='a', max=6.0, min=-6.0), FloatSlider(value=0.0, descr…"
      ]
     },
     "metadata": {},
     "output_type": "display_data"
    }
   ],
   "source": [
    "from sympy import symbols, sin, cos, pi\n",
    "from sympy.plotting import plot_parametric\n",
    "from matplotlib import style\n",
    "import matplotlib.pyplot as plt\n",
    "from ipywidgets import interact\n",
    "import ipywidgets as widget\n",
    "style.use('seaborn-whitegrid')\n",
    "\n",
    "@interact(\n",
    "    a=widget.FloatSlider(min=-6,max=6,step=0.1,value=1),\n",
    "    b=(-6,6,0.1),\n",
    "    cor=widget.ColorPicker(description='Cor:',value='green'),\n",
    "    Título=True    \n",
    ")\n",
    "def eq_reta(a,b):\n",
    "    x = symbols('x')\n",
    "    y = a*x+b\n",
    "    # PARCELA 'a'\n",
    "    if a==1 or a==0: # Adiciona a condição de a==1 ou a==0\n",
    "        a_str = ''\n",
    "    else: #Mostra o valor de a nas outras condições\n",
    "        a_str = '{:.2g}'.format(a)\n",
    "         \n",
    "    # PARCELA 'x'\n",
    "    if a==0:\n",
    "        x_str = ''\n",
    "    else:\n",
    "        x_str = 'x'\n",
    "               \n",
    "    # PARCELA 'b'\n",
    "    if b==0: #Mostra o b se o valor de b for diferente de zero\n",
    "        if a==0:\n",
    "            b_str = '0'\n",
    "        else:\n",
    "            b_str = ''\n",
    "    elif a!=0: #Quando a é diferente de zero deve-se incluir o '+'\n",
    "        b_str = '{:+.2g}'.format(b)\n",
    "    else: #Quando a é zero não é necessário incluir o '+'\n",
    "        b_str = '{:.2g}'.format(b)\n",
    "            \n",
    "    t = '$y(x)=' + a_str + x_str + b_str +'$'\n",
    "    plot(y,(x,-10,10),\n",
    "                xlim=(-6,6),\n",
    "                ylim=(-6*3/4,6*3/4),\n",
    "                title=t,\n",
    "                xlabel=\"$x$\",\n",
    "                ylabel=\"\"\n",
    "               )"
   ]
  },
  {
   "cell_type": "markdown",
   "metadata": {},
   "source": [
    "**Adicionando na forma de acumulador**"
   ]
  },
  {
   "cell_type": "code",
   "execution_count": null,
   "metadata": {},
   "outputs": [],
   "source": []
  },
  {
   "cell_type": "markdown",
   "metadata": {},
   "source": [
    "**Mostrando ou escondendo a equação**"
   ]
  },
  {
   "cell_type": "code",
   "execution_count": null,
   "metadata": {},
   "outputs": [],
   "source": []
  },
  {
   "cell_type": "code",
   "execution_count": 33,
   "metadata": {},
   "outputs": [
    {
     "ename": "SyntaxError",
     "evalue": "invalid syntax (<ipython-input-33-9b82d1ea8652>, line 49)",
     "output_type": "error",
     "traceback": [
      "\u001b[0;36m  File \u001b[0;32m\"<ipython-input-33-9b82d1ea8652>\"\u001b[0;36m, line \u001b[0;32m49\u001b[0m\n\u001b[0;31m    )a\u001b[0m\n\u001b[0m     ^\u001b[0m\n\u001b[0;31mSyntaxError\u001b[0m\u001b[0;31m:\u001b[0m invalid syntax\n"
     ]
    }
   ],
   "source": [
    "# Célula 3: Plotando o gráfico\n",
    "from sympy import symbols, sin, cos, pi\n",
    "from sympy.plotting import plot_parametric\n",
    "from matplotlib import style\n",
    "import matplotlib.pyplot as plt\n",
    "from ipywidgets import interact\n",
    "import ipywidgets as widget\n",
    "style.use('seaborn-whitegrid')\n",
    "\n",
    "@interact(\n",
    "    a=widget.FloatSlider(min=-6,max=6,step=0.1,value=1),\n",
    "    b=(-6,6,0.1),\n",
    "    cor=widget.ColorPicker(description='Cor:',value='green'),\n",
    "    Título=True    \n",
    ")\n",
    "def eq_reta(a,b,cor,Título):\n",
    "    x = symbols('x')\n",
    "    y = a*x+b\n",
    "    if Título:\n",
    "        if a==0 and b==0: #Caso de 'a' e 'b' igual a zero\n",
    "            t= '$y(x)=0$'\n",
    "        else:\n",
    "            # PARCELA 'ax'\n",
    "            if a==1: # Adiciona a condição de a==1\n",
    "                a_str = 'x'\n",
    "            elif a==0: #Não mostra nada de a=0\n",
    "                a_str = ''\n",
    "            else: #Mostra o valor de a nas outras condições\n",
    "                a_str = '{:.2g}x'.format(a)\n",
    "                \n",
    "            # PARCELA 'b'\n",
    "            if b==0: #Mostra o b se o valor de b for diferente de zero\n",
    "                b_str = ''\n",
    "            else:\n",
    "                if a!=0: #Quando a é diferente de zero deve-se incluir o '+'\n",
    "                    b_str = '{:+.2g}'.format(b)\n",
    "                else: #Quando a é zero não é necessário incluir o '+'\n",
    "                    b_str = '{:.2g}'.format(b)\n",
    "            t = '$y(x)=' + a_str + b_str +'$'\n",
    "    else:\n",
    "        t = ' '\n",
    "    plot(y,(x,-10,10),\n",
    "                xlim=(-6,6),\n",
    "                ylim=(-6*3/4,6*3/4),\n",
    "                title=t,\n",
    "                xlabel=\"$x$\",\n",
    "                ylabel=\"\",\n",
    "                line_color=cor\n",
    "               )a"
   ]
  },
  {
   "cell_type": "markdown",
   "metadata": {},
   "source": [
    "#### Tarefa 5: Espiral"
   ]
  },
  {
   "cell_type": "code",
   "execution_count": null,
   "metadata": {},
   "outputs": [],
   "source": [
    "from sympy import symbols, sin, cos, pi #Importando symbols, sin, cos e pi\n",
    "from sympy.plotting import plot_parametric #Importando plot_parametric\n",
    "from matplotlib import style\n",
    "style.use('seaborn-whitegrid')\n",
    "\n",
    "@interact(n=(-2.0,2.0,0.1),Título=True,Eixos=False)\n",
    "def plotando_espiral(n,Título,Eixos):\n",
    "    theta = symbols('θ')\n",
    "    x = theta**n*sin(theta)\n",
    "    y = theta**n*cos(theta)\n",
    "    if Título:\n",
    "        if n==0:\n",
    "            título_str='Cículo'\n",
    "        else:\n",
    "            título_str=\"Espiral com n={:.2f}\".format(n)\n",
    "    else:\n",
    "        título_str=' '\n",
    "    if Eixos:\n",
    "        eixo_x='$x$'\n",
    "        eixo_y='$y$'\n",
    "    else:\n",
    "        eixo_x=''\n",
    "        eixo_y=''        \n",
    "    plot_parametric(x,y,(theta,0,10*pi),\n",
    "          xlim=(-8,8.04),\n",
    "          ylim=(-8.06*15/23,8*15/23),\n",
    "          title=título_str,\n",
    "          xlabel=eixo_x,\n",
    "          ylabel=eixo_y)"
   ]
  },
  {
   "cell_type": "markdown",
   "metadata": {},
   "source": [
    "Uma reta é dada por:\n",
    "\n",
    "$$\n",
    "y(x)=ax+b\n",
    "$$\n",
    "\n",
    "- Considere que $a$ e $b$ são `FloatSlider`  variando de $\\pm6$ com passo de $0,1$. $a$ devem iniciar em $1$.\n",
    "\n",
    "- Adicione a possibilidade de escolher a cor do gráfico utilizando o Widget `ColorPicker`.  Utilize os parâmetros `description=\"Cor:\"` e `value=\"green\"` (Veja a [documentação](https://ipywidgets.readthedocs.io/en/latest/examples/Widget%20List.html#Color-picker)).\n",
    "\n",
    "- O título do gráfico deve ser a equação da reta. Se atente as seguintes condições:\n",
    "   - Quando $a=0$ deve-se omitir o $ax$ na equação\n",
    "   - Quando $a=1$ deve-se omitir o valor de $a$ (Exemplo: $y(x)=x+b$) na equação\n",
    "   - Quando $b=0$ deve-se omitir o valor de $b$ na equação\n",
    "   - Se $a=0$ e $b=0$ mostrar $y(x)=0$\n",
    "\n",
    "- Adicione a possibilidade de mostrar ou ocultar o título.\n",
    "\n",
    "> **Dica:** Você pode trabalhar com concatenação de strings."
   ]
  },
  {
   "cell_type": "code",
   "execution_count": null,
   "metadata": {},
   "outputs": [],
   "source": [
    "# Célula 3: Plotando o gráfico\n",
    "from sympy import symbols, sin, cos, pi\n",
    "from sympy.plotting import plot_parametric\n",
    "from matplotlib import style\n",
    "import matplotlib.pyplot as plt\n",
    "from ipywidgets import interact\n",
    "import ipywidgets as widget\n",
    "style.use('seaborn-whitegrid')\n",
    "\n",
    "@interact(\n",
    "    a=widget.FloatSlider(min=-6,max=6,step=0.1,value=1),\n",
    "    b=(-6,6,0.1),\n",
    "    cor=widget.ColorPicker(description='Cor:',value='green'),\n",
    "    Título=True    \n",
    ")\n",
    "def eq_reta(a,b,cor,Título):\n",
    "    x = symbols('x')\n",
    "    y = a*x+b\n",
    "    if Título:\n",
    "        if a==0 and b==0: #Caso de 'a' e 'b' igual a zero\n",
    "            t= '$y(x)=0$'\n",
    "        else:\n",
    "            # PARCELA 'ax'\n",
    "            if a==1: # Adiciona a condição de a==1\n",
    "                a_str = 'x'\n",
    "            elif a==0: #Não mostra nada de a=0\n",
    "                a_str = ''\n",
    "            else: #Mostra o valor de a nas outras condições\n",
    "                a_str = '{:.2g}x'.format(a)\n",
    "                \n",
    "            # PARCELA 'b'\n",
    "            if b==0: #Mostra o b se o valor de b for diferente de zero\n",
    "                b_str = ''\n",
    "            else:\n",
    "                if a!=0: #Quando a é diferente de zero deve-se incluir o '+'\n",
    "                    b_str = '{:+.2g}'.format(b)\n",
    "                else: #Quando a é zero não é necessário incluir o '+'\n",
    "                    b_str = '{:.2g}'.format(b)\n",
    "            t = '$y(x)=' + a_str + b_str +'$'\n",
    "    else:\n",
    "        t = ' '\n",
    "    plot(y,(x,-10,10),\n",
    "                xlim=(-6,6),\n",
    "                ylim=(-6*3/4,6*3/4),\n",
    "                title=t,\n",
    "                xlabel=\"$x$\",\n",
    "                ylabel=\"\",\n",
    "                line_color=cor\n",
    "               )"
   ]
  },
  {
   "cell_type": "markdown",
   "metadata": {},
   "source": [
    "## Exemplo 9: interact_manual()"
   ]
  },
  {
   "cell_type": "markdown",
   "metadata": {},
   "source": [
    "**Exemplo simples:**"
   ]
  },
  {
   "cell_type": "code",
   "execution_count": null,
   "metadata": {},
   "outputs": [],
   "source": [
    "from ipywidgets import interact_manual\n",
    "def soma(x,y):\n",
    "    s=x+y\n",
    "    print(\"A soma de {} + {} vale {}\".format(x,y,s))\n",
    "interact_manual(soma,x=(0.0,0.9,0.1),y=(0,3));"
   ]
  },
  {
   "cell_type": "markdown",
   "metadata": {},
   "source": [
    "Ou ainda:"
   ]
  },
  {
   "cell_type": "code",
   "execution_count": null,
   "metadata": {},
   "outputs": [],
   "source": [
    "@interact_manual(x=(0.0,0.9,0.1),y=(0,3))\n",
    "def soma(x,y):\n",
    "    s=x+y\n",
    "    print(\"A soma de {} + {} vale {}\".format(x,y,s))"
   ]
  },
  {
   "cell_type": "markdown",
   "metadata": {},
   "source": [
    "**Número primo**"
   ]
  },
  {
   "cell_type": "markdown",
   "metadata": {},
   "source": [
    "Um número é primo quando ele somente é divisível por um e por ele mesmo.\n",
    "\n",
    "Os primeiros 25 números primos são:\n",
    "> 2, 3, 5, 7, 11, 13, 17, 19, 23, 29, 31, 37, 41, 43, 47, 53, 59, 61, 67, 71, 73, 79, 83, 89, 97 "
   ]
  },
  {
   "cell_type": "markdown",
   "metadata": {},
   "source": [
    "Números primos grandes:\n",
    "\n",
    "> 7919, 27644437"
   ]
  },
  {
   "cell_type": "markdown",
   "metadata": {},
   "source": [
    "```mermaid\n",
    "graph TB\n",
    "    idi((Início)) --> id2\n",
    "    id2[Divida o <b>Número</b> por todos os números entre <b>2</b> e o <b>Número/2</n>] --> idp\n",
    "    idp{O <b>Número</b> é divisível por esses números?} -- True --> id3[Não é primo] --> idf((Fim))\n",
    "    idp -- False --> id4[É primo] --> idf\n",
    "```"
   ]
  },
  {
   "cell_type": "code",
   "execution_count": null,
   "metadata": {},
   "outputs": [],
   "source": [
    "from ipywidgets import interact_manual\n",
    "@interact_manual(Número=\"\")\n",
    "def checar_primo(Número):\n",
    "    if not(Número.isdigit()):\n",
    "        print(\"Por favor digite um número inteiro e positivo!\")      \n",
    "    else:\n",
    "        Número=int(Número) # Converte o número para inteiro\n",
    "        if (Número>1):\n",
    "            primo=True # Iniciamos com a suposição que o número é primo\n",
    "            \n",
    "            \"\"\"\n",
    "            Depois vamos verificar se ele é divisível por 2 e todos os números subsequentes\n",
    "            \n",
    "            OBS: Limitamos o divisor à num/2 pois acima disso não existe divisão inteira para número\n",
    "            \"\"\"\n",
    "            divisor = 2\n",
    "            while (divisor<= Número/2):\n",
    "                if (Número % divisor == 0): # Se o resto for 0 ele é divisível\n",
    "                    primo=False # Se ele for divisível ele não é primo\n",
    "                    break # Saia do loop para economizar processamento\n",
    "                divisor+=1 # Essa expressão tem o mesmo valor que divisor = divisor +1\n",
    "            \n",
    "            if primo:\n",
    "                print(\"O número {} é primo.\".format(Número))\n",
    "            else:\n",
    "                print(\"O número {} não é primo, pois é divisível por {}.\".format(Número,divisor))\n",
    "        elif (Número==1):\n",
    "            print(\"O número 1 não é primo, pois tem apenas um único divisor.\")\n",
    "        else:\n",
    "            print(\"O número 0 não é primo, pois divisão por 0 é indeterminada.\")"
   ]
  },
  {
   "cell_type": "markdown",
   "metadata": {},
   "source": [
    "#### Tarefa 6: Revertendo um número"
   ]
  },
  {
   "cell_type": "markdown",
   "metadata": {},
   "source": [
    "Crie um programa capaz de reverter a ordem de impressão de um número:\n",
    "- Use um widget de campo de texto como entrada;  \n",
    "- O programa deve aceitar somente números inteiros e positivos;  \n",
    "- Você deve trabalhar com o número (E não com a string).\n",
    "\n",
    "Se precisar, você pode copiar e colar o seguinte diagrama numa célula Markdown para te ajudar.\n",
    "\n",
    "```markdown\n",
    "    ```mermaid\n",
    "    flowchart TB\n",
    "        idi((Início)) --> id1[\"Assuma que <b>NumRevertido</b> é 0\"] --> idp\n",
    "        idp{\"<b>Número</b> == 0?\"} -- False --> id3\n",
    "        id3[\"Calcule o <b>Resto</b> do <b>Número</b> dividido por 10\"] --> id4\n",
    "        id4[Multiplique <b>NumRevertido</b> por 10 e some com o <b>Resto</b>] --> id5\n",
    "        id5[Divisão inteira do <b>Número</b> por 10] --> idp\n",
    "        idp -- True --> idf((Fim))\n",
    "    ```\n",
    "```"
   ]
  },
  {
   "cell_type": "markdown",
   "metadata": {},
   "source": [
    "**Solução:**"
   ]
  },
  {
   "cell_type": "markdown",
   "metadata": {},
   "source": [
    "```mermaid\n",
    "flowchart TB\n",
    "    idi((Início)) --> id1[\"Assuma que <b>NumRevertido</b> é 0\"] --> idp\n",
    "    idp{\"<b>Número</b> == 0?\"} -- False --> id3\n",
    "    id3[\"Calcule o <b>Resto</b> do <b>Número</b> dividido por 10\"] --> id4\n",
    "    id4[Multiplique <b>NumRevertido</b> por 10 e some com o <b>Resto</b>] --> id5\n",
    "    id5[Divisão inteira do <b>Número</b> por 10] --> idp\n",
    "    idp -- True --> idf((Fim))\n",
    "```"
   ]
  },
  {
   "cell_type": "code",
   "execution_count": null,
   "metadata": {},
   "outputs": [],
   "source": [
    "from ipywidgets import interact\n",
    "\n",
    "@interact_manual(Número=\"\")\n",
    "def reverterNum(Número):\n",
    "    if not(Número.isdigit()):\n",
    "        print(\"Por favor digite um número inteiro e positivo!\")      \n",
    "    else:\n",
    "        NúmeroRevertido=0 # Assume que o número é zero\n",
    "        Número=int(Número) # Converte o número para inteiro\n",
    "        while(Número>0):\n",
    "            Resto = Número%10\n",
    "            NúmeroRevertido = NúmeroRevertido*10+Resto\n",
    "            Número//=10 #Número=Número//10\n",
    "        print(\"O número revertido é: {}.\".format(NúmeroRevertido))\n"
   ]
  },
  {
   "cell_type": "markdown",
   "metadata": {},
   "source": [
    "# Atividade 3: Para casa"
   ]
  },
  {
   "cell_type": "markdown",
   "metadata": {},
   "source": [
    "## Exercício 1: Função do segundo grau"
   ]
  },
  {
   "cell_type": "markdown",
   "metadata": {},
   "source": [
    "Uma parábola tem a sua função dada por:\n",
    "\n",
    "$$\n",
    "y(x)=ax^2+bx+c\n",
    "$$ \n",
    "\n",
    "De forma similar à tarefa da equação da reta crie um programa capaz de criar um gráfico de uma equação do segundo grau. Considere as seguintes premissas:\n",
    "\n",
    "- Os valores de $a$, $b$ e $c$ devem ser entradas do programa na forma de Sliders;\n",
    "- Os sliders devem variar de -6 a 6 com o passo de 0,1;\n",
    "- O título do gráfico deve mostrar a equação da parábola (Considere mostrar a equação correntamente, considerando as situações que $a$, $b$ e/ou $c$ podem ser zero ou que $a$ e/ou $b$ podem ser 1);\n",
    "- O usuário podera alterar a cor do gráfico através de um Widget;\n",
    "- O usuário pode mostrar ou ocultar o título;\n",
    "- O usuário pode mostrar ou ocultar os eixos;\n",
    "- Você deve utilizar $x$ como variável simbólica;\n",
    "- O gráfico deve ser plotado com a função `plot()` do pacote `sympy`."
   ]
  },
  {
   "cell_type": "code",
   "execution_count": null,
   "metadata": {},
   "outputs": [],
   "source": []
  },
  {
   "cell_type": "markdown",
   "metadata": {},
   "source": [
    "## Exercício 2: Dissecando uma string\n",
    "\n",
    "Faça um programa que tenha como entrada uma caixa de texto (o Widget `Textarea`). O programa deve analisar o conteúdo da caixa de texto e verificar se:\n",
    "\n",
    "- O texto só tem espaços;\n",
    "- O texto está vazio;\n",
    "- O texto é numérico;\n",
    "- O texto é alfabético;\n",
    "- O texto é alfanumérico;\n",
    "- O texto pode ser utilizado como um identificador padrão do Python;\n",
    "- O texto está em maiúsculas;\n",
    "- O texto está na forma de título;\n",
    "- O texto está em minúsculas.\n",
    "\n",
    "Você deve pesquisar sobre o Widget `Textarea` na documentação.\n",
    "\n",
    "A análise do texto deve ser feita em tempo real."
   ]
  },
  {
   "cell_type": "code",
   "execution_count": null,
   "metadata": {},
   "outputs": [],
   "source": []
  },
  {
   "cell_type": "markdown",
   "metadata": {},
   "source": [
    "## Exercício 3: Número de dígitos\n",
    "\n",
    "Crie um programa capaz de contar o número de digitos de um determinado número.\n",
    "\n",
    "- Use um widget de campo de texto como entrada;  \n",
    "- O programa deve aceitar somente números inteiros e positivos;  \n",
    "- Você deve trabalhar com o número (E não com a string).\n",
    "\n",
    "O usuário deve clicar num botão para fazer a análise do número (Use o `interact_manual`)."
   ]
  },
  {
   "cell_type": "code",
   "execution_count": null,
   "metadata": {},
   "outputs": [],
   "source": []
  },
  {
   "cell_type": "markdown",
   "metadata": {},
   "source": [
    "## Exercício 4: Formulário\n",
    "\n",
    "Crie um programa que capaz de fazer a inscrição de um determinado usuário. O formulário deve ter como entrada:\n",
    "\n",
    "- Nome (Só aceita se a string for na forma de título)\n",
    "- Nome do usuário (Só aceita se aceita se a string for um identificador padrão do Python)\n",
    "- Telefone (Só aceita se a string for numérica)\n",
    "\n",
    "Para aceitar a inscrição o usuário deve clicar num botão (Use o `interact_manual`).\n",
    "\n",
    "O programa só deve aceitar a inscrição somente se o Nome, Usuário e Telefone forem válidos. \n",
    "\n",
    "Caso a inscrição for inválida o programa deve indicar a causa do erro. Caso a inscrição seja válida o programa deve imprimir:\n",
    "\n",
    "> Inscrição validada com sucesso!"
   ]
  },
  {
   "cell_type": "code",
   "execution_count": null,
   "metadata": {},
   "outputs": [],
   "source": []
  }
 ],
 "metadata": {
  "kernelspec": {
   "display_name": "Python 3",
   "language": "python",
   "name": "python3"
  },
  "language_info": {
   "codemirror_mode": {
    "name": "ipython",
    "version": 3
   },
   "file_extension": ".py",
   "mimetype": "text/x-python",
   "name": "python",
   "nbconvert_exporter": "python",
   "pygments_lexer": "ipython3",
   "version": "3.8.3"
  },
  "toc-autonumbering": false
 },
 "nbformat": 4,
 "nbformat_minor": 4
}
