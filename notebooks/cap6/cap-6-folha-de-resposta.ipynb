{
 "cells": [
  {
   "cell_type": "markdown",
   "metadata": {},
   "source": [
    "<center><div style=\"font-size:32px;display:inline-block;line-height:1.1;font-weight:bold;margin:0 0 15px\" class=\"aula-title\">Capítulo 6: Widgets</div></center>"
   ]
  },
  {
   "cell_type": "raw",
   "metadata": {},
   "source": [
    "<!---\n",
    "Escreva seu cabeçalho nesta célula \n",
    "\n",
    "Utilize o mesmo cabeçalho que fizemos em sala\n",
    "Não se esqueça de colocar pelo menos seu nome completo, título do capítulo e e-mail\n",
    "\n",
    "OBS: Apague todos os comentários após fazer o seu exercício\n",
    "--->"
   ]
  },
  {
   "cell_type": "markdown",
   "metadata": {},
   "source": [
    "## Atividade 1: Introdução aos Widgets"
   ]
  },
  {
   "cell_type": "markdown",
   "metadata": {},
   "source": [
    "### Exemplo 1: Adicionando suporte à Widgets"
   ]
  },
  {
   "cell_type": "markdown",
   "metadata": {},
   "source": [
    "**Adicionando o primeiro Widget**"
   ]
  },
  {
   "cell_type": "code",
   "execution_count": null,
   "metadata": {},
   "outputs": [],
   "source": [
    "import ipywidgets as widget #Importando o pacote com o apelido de widgets\n",
    "widget.IntSlider() #Inicializando um IntSlider"
   ]
  },
  {
   "cell_type": "markdown",
   "metadata": {},
   "source": [
    "**Mostrando o Widget com a função display**"
   ]
  },
  {
   "cell_type": "code",
   "execution_count": null,
   "metadata": {},
   "outputs": [],
   "source": []
  },
  {
   "cell_type": "markdown",
   "metadata": {},
   "source": [
    "**Removendo a linha de importação**\n",
    "> Reinicie o Kernel e teste!"
   ]
  },
  {
   "cell_type": "code",
   "execution_count": null,
   "metadata": {},
   "outputs": [],
   "source": []
  },
  {
   "cell_type": "markdown",
   "metadata": {},
   "source": [
    "#### Tarefa 1: Outros widgets\n",
    "Além do `IntSlider` existe uma extensa lista de Widgets. \n",
    "\n",
    "Tente inicializar e mostrar os seguintes Widgets:\n",
    "\n",
    "- Text\n",
    "- CheckBox\n",
    "- FloatSlider"
   ]
  },
  {
   "cell_type": "markdown",
   "metadata": {},
   "source": [
    "**Solução:**"
   ]
  },
  {
   "cell_type": "code",
   "execution_count": null,
   "metadata": {},
   "outputs": [],
   "source": []
  },
  {
   "cell_type": "markdown",
   "metadata": {},
   "source": [
    "### Exemplo 2: Customizando Widgets"
   ]
  },
  {
   "cell_type": "markdown",
   "metadata": {},
   "source": [
    "- `IntSlider`"
   ]
  },
  {
   "cell_type": "code",
   "execution_count": null,
   "metadata": {},
   "outputs": [],
   "source": []
  },
  {
   "cell_type": "markdown",
   "metadata": {},
   "source": [
    "- `FloatSlider`"
   ]
  },
  {
   "cell_type": "code",
   "execution_count": null,
   "metadata": {},
   "outputs": [],
   "source": []
  },
  {
   "cell_type": "markdown",
   "metadata": {},
   "source": [
    "- `CheckBox`"
   ]
  },
  {
   "cell_type": "code",
   "execution_count": null,
   "metadata": {},
   "outputs": [],
   "source": []
  },
  {
   "cell_type": "markdown",
   "metadata": {},
   "source": [
    "- `Text`"
   ]
  },
  {
   "cell_type": "code",
   "execution_count": null,
   "metadata": {},
   "outputs": [],
   "source": []
  },
  {
   "cell_type": "markdown",
   "metadata": {},
   "source": [
    "### Exemplo 3: Acessando os valores dos Widgets"
   ]
  },
  {
   "cell_type": "markdown",
   "metadata": {},
   "source": [
    "> Por enquanto, para trabalhar com widgets precisamos dividir o programa em **3 células**."
   ]
  },
  {
   "cell_type": "code",
   "execution_count": null,
   "metadata": {},
   "outputs": [],
   "source": []
  },
  {
   "cell_type": "code",
   "execution_count": null,
   "metadata": {},
   "outputs": [],
   "source": []
  },
  {
   "cell_type": "code",
   "execution_count": null,
   "metadata": {},
   "outputs": [],
   "source": []
  },
  {
   "cell_type": "markdown",
   "metadata": {},
   "source": [
    "## Atividade 2: Interact"
   ]
  },
  {
   "cell_type": "markdown",
   "metadata": {},
   "source": [
    "### Exemplo 4: Introdução ao `Interact`"
   ]
  },
  {
   "cell_type": "code",
   "execution_count": null,
   "metadata": {},
   "outputs": [],
   "source": []
  },
  {
   "cell_type": "code",
   "execution_count": null,
   "metadata": {},
   "outputs": [],
   "source": []
  },
  {
   "cell_type": "code",
   "execution_count": null,
   "metadata": {},
   "outputs": [],
   "source": []
  },
  {
   "cell_type": "markdown",
   "metadata": {},
   "source": [
    "#### Tarefa 2: Exemplos de Widgets\n",
    "O tipo de Widget criado pela função `ìnteract()` depende do tipo de entrada. Repita o exemplo anterior considerando:\n",
    "\n",
    "- `x=2.0`\n",
    "- `x=1`\n",
    "- `x=True`\n",
    "- `x=\"\"`\n",
    "- `x=\"Digite o seu nome\"`"
   ]
  },
  {
   "cell_type": "code",
   "execution_count": null,
   "metadata": {},
   "outputs": [],
   "source": []
  },
  {
   "cell_type": "markdown",
   "metadata": {},
   "source": [
    "### Exemplo 5: Usando a notação `@interact`"
   ]
  },
  {
   "cell_type": "code",
   "execution_count": null,
   "metadata": {},
   "outputs": [],
   "source": []
  },
  {
   "cell_type": "markdown",
   "metadata": {},
   "source": [
    "### Exemplo 6: Abreviações de Widgets"
   ]
  },
  {
   "cell_type": "markdown",
   "metadata": {},
   "source": [
    "`interact(x=5)` é o mesmo que:"
   ]
  },
  {
   "cell_type": "code",
   "execution_count": null,
   "metadata": {},
   "outputs": [],
   "source": []
  },
  {
   "cell_type": "markdown",
   "metadata": {},
   "source": [
    "Podemos obter o **mesmo resultado** passando como parâmetro de `x`:"
   ]
  },
  {
   "cell_type": "code",
   "execution_count": null,
   "metadata": {},
   "outputs": [],
   "source": []
  },
  {
   "cell_type": "markdown",
   "metadata": {},
   "source": [
    "Ou ainda:"
   ]
  },
  {
   "cell_type": "code",
   "execution_count": null,
   "metadata": {},
   "outputs": [],
   "source": []
  },
  {
   "cell_type": "markdown",
   "metadata": {},
   "source": [
    "Segue abaixo alguns argumentos:\n",
    "| Argumento                                                  | Widget      |\n",
    "| ---------------------------------------------------------- | ----------- |\n",
    "| Valor booleano: `True` ou `False`                          | Checkbox    |\n",
    "| String: `\"Uma frase\"` ou `\"\"`                              | Text        |\n",
    "| Inteiro: `valor`, `(min,max)` ou `(min,max,passo)`         | IntSlider   |\n",
    "| Ponto flutuante: `valor`, `(min,max)` ou `(min,max,passo)` | FloatSlider |"
   ]
  },
  {
   "cell_type": "markdown",
   "metadata": {},
   "source": [
    "`Intslider` limitado de $x\\in [0,10]$"
   ]
  },
  {
   "cell_type": "code",
   "execution_count": null,
   "metadata": {},
   "outputs": [],
   "source": []
  },
  {
   "cell_type": "markdown",
   "metadata": {},
   "source": [
    "**Customizando slider de float:**"
   ]
  },
  {
   "cell_type": "code",
   "execution_count": null,
   "metadata": {},
   "outputs": [],
   "source": []
  },
  {
   "cell_type": "markdown",
   "metadata": {},
   "source": [
    "#### Tarefa 3: Volume e raio de uma esfera"
   ]
  },
  {
   "cell_type": "code",
   "execution_count": null,
   "metadata": {},
   "outputs": [],
   "source": []
  },
  {
   "cell_type": "markdown",
   "metadata": {},
   "source": [
    "### Exemplo 7: Widgets e gráficos"
   ]
  },
  {
   "cell_type": "markdown",
   "metadata": {},
   "source": [
    "**Gráfico de uma espiral**"
   ]
  },
  {
   "cell_type": "code",
   "execution_count": null,
   "metadata": {},
   "outputs": [],
   "source": []
  },
  {
   "cell_type": "markdown",
   "metadata": {},
   "source": [
    "**Corrigindo o exercício com o `if`**"
   ]
  },
  {
   "cell_type": "code",
   "execution_count": null,
   "metadata": {},
   "outputs": [],
   "source": []
  },
  {
   "cell_type": "markdown",
   "metadata": {},
   "source": [
    "#### Tarefa 4: Inclinação da reta\n",
    "\n",
    "Uma reta fixada na origem tem a seguinte notação:\n",
    "\n",
    "$$\n",
    "f(x)=ax\n",
    "$$\n",
    "\n",
    "Crie um programa capaz de criar uma reta baseando-se no seu ângulo de inclinação $u$. Para criar a reta utilize a definição de $u$:\n",
    "\n",
    "$$\n",
    "u=\\tan^{-1}(a)\n",
    "$$\n",
    "\n",
    "ou ainda:\n",
    "$$\n",
    "a=\\tan(u)\n",
    "$$"
   ]
  },
  {
   "cell_type": "markdown",
   "metadata": {},
   "source": [
    "**Solução:**"
   ]
  },
  {
   "cell_type": "code",
   "execution_count": null,
   "metadata": {},
   "outputs": [],
   "source": []
  },
  {
   "cell_type": "markdown",
   "metadata": {},
   "source": [
    "### Exemplo 8: Multiplos argumentos"
   ]
  },
  {
   "cell_type": "markdown",
   "metadata": {},
   "source": [
    "**Exemplo simples:**"
   ]
  },
  {
   "cell_type": "code",
   "execution_count": null,
   "metadata": {},
   "outputs": [],
   "source": []
  },
  {
   "cell_type": "markdown",
   "metadata": {},
   "source": [
    "**Exemplo de uma reta:**"
   ]
  },
  {
   "cell_type": "markdown",
   "metadata": {},
   "source": [
    "Início:"
   ]
  },
  {
   "cell_type": "code",
   "execution_count": null,
   "metadata": {},
   "outputs": [],
   "source": []
  },
  {
   "cell_type": "markdown",
   "metadata": {},
   "source": [
    "A equação não é mostrada adequadamente. Vamos corrigí-la utilizando `if` e concatenação de `strings`.\n",
    "\n",
    "A principio vamos adicionar as seguintes regras:\n",
    "\n",
    "   - Quando $a=0$ deve-se omitir o $ax$ na equação\n",
    "   - Quando $a=1$ deve-se omitir o valor de $a$ (Exemplo: $y(x)=x+b$) na equação\n",
    "   - Quando $b=0$ deve-se omitir o valor de $b$ na equação\n",
    "   - Se $a=0$ e $b=0$ mostrar $y(x)=0$"
   ]
  },
  {
   "cell_type": "code",
   "execution_count": null,
   "metadata": {},
   "outputs": [],
   "source": []
  },
  {
   "cell_type": "code",
   "execution_count": null,
   "metadata": {},
   "outputs": [],
   "source": []
  },
  {
   "cell_type": "markdown",
   "metadata": {},
   "source": [
    "#### Tarefa 5: Espiral"
   ]
  },
  {
   "cell_type": "code",
   "execution_count": null,
   "metadata": {},
   "outputs": [],
   "source": []
  },
  {
   "cell_type": "markdown",
   "metadata": {},
   "source": [
    "Uma reta é dada por:\n",
    "\n",
    "$$\n",
    "y(x)=ax+b\n",
    "$$\n",
    "\n",
    "- Considere que $a$ e $b$ são `FloatSlider`  variando de $\\pm6$ com passo de $0,1$. $a$ devem iniciar em $1$.\n",
    "\n",
    "- Adicione a possibilidade de escolher a cor do gráfico utilizando o Widget `ColorPicker`.  Utilize os parâmetros `description=\"Cor:\"` e `value=\"green\"` (Veja a [documentação](https://ipywidgets.readthedocs.io/en/latest/examples/Widget%20List.html#Color-picker)).\n",
    "\n",
    "- O título do gráfico deve ser a equação da reta. Se atente as seguintes condições:\n",
    "   - Quando $a=0$ deve-se omitir o $ax$ na equação\n",
    "   - Quando $a=1$ deve-se omitir o valor de $a$ (Exemplo: $y(x)=x+b$) na equação\n",
    "   - Quando $b=0$ deve-se omitir o valor de $b$ na equação\n",
    "   - Se $a=0$ e $b=0$ mostrar $y(x)=0$\n",
    "\n",
    "- Adicione a possibilidade de mostrar ou ocultar o título.\n",
    "\n",
    "> **Dica:** Você pode trabalhar com concatenação de strings."
   ]
  },
  {
   "cell_type": "code",
   "execution_count": null,
   "metadata": {},
   "outputs": [],
   "source": []
  },
  {
   "cell_type": "markdown",
   "metadata": {},
   "source": [
    "### Exemplo 9: interact_manual()"
   ]
  },
  {
   "cell_type": "markdown",
   "metadata": {},
   "source": [
    "**Exemplo simples:**"
   ]
  },
  {
   "cell_type": "code",
   "execution_count": null,
   "metadata": {},
   "outputs": [],
   "source": []
  },
  {
   "cell_type": "markdown",
   "metadata": {},
   "source": [
    "Ou ainda:"
   ]
  },
  {
   "cell_type": "code",
   "execution_count": null,
   "metadata": {},
   "outputs": [],
   "source": []
  },
  {
   "cell_type": "markdown",
   "metadata": {},
   "source": [
    "**Número primo**"
   ]
  },
  {
   "cell_type": "markdown",
   "metadata": {},
   "source": [
    "Um número é primo quando ele somente é divisível por um e por ele mesmo.\n",
    "\n",
    "Os primeiros 25 números primos são:\n",
    "> 2, 3, 5, 7, 11, 13, 17, 19, 23, 29, 31, 37, 41, 43, 47, 53, 59, 61, 67, 71, 73, 79, 83, 89, 97 "
   ]
  },
  {
   "cell_type": "markdown",
   "metadata": {},
   "source": [
    "Números primos grandes:\n",
    "\n",
    "> 7919, 27644437"
   ]
  },
  {
   "cell_type": "markdown",
   "metadata": {},
   "source": [
    "```mermaid\n",
    "graph TB\n",
    "    idi((Início)) --> id2\n",
    "    id2[Divida o <b>Número</b> por todos os números entre <b>2</b> e o <b>Número/2</n>] --> idp\n",
    "    idp{O <b>Número</b> é divisível por esses números?} -- True --> id3[Não é primo] --> idf((Fim))\n",
    "    idp -- False --> id4[É primo] --> idf\n",
    "```"
   ]
  },
  {
   "cell_type": "code",
   "execution_count": null,
   "metadata": {},
   "outputs": [],
   "source": []
  },
  {
   "cell_type": "markdown",
   "metadata": {},
   "source": [
    "#### Tarefa 6: Revertendo um número"
   ]
  },
  {
   "cell_type": "markdown",
   "metadata": {},
   "source": [
    "Crie um programa capaz de reverter a ordem de impressão de um número:\n",
    "- Use um widget de campo de texto como entrada;  \n",
    "- O programa deve aceitar somente números inteiros e positivos;  \n",
    "- Você deve trabalhar com o número (E não com a string).\n",
    "\n",
    "Se precisar, você pode copiar e colar o seguinte diagrama numa célula Markdown para te ajudar.\n",
    "\n",
    "```markdown\n",
    "    ```mermaid\n",
    "    flowchart TB\n",
    "        idi((Início)) --> id1[\"Assuma que <b>NumRevertido</b> é 0\"] --> idp\n",
    "        idp{\"<b>Número</b> == 0?\"} -- False --> id3\n",
    "        id3[\"Calcule o <b>Resto</b> do <b>Número</b> dividido por 10\"] --> id4\n",
    "        id4[Multiplique <b>NumRevertido</b> por 10 e some com o <b>Resto</b>] --> id5\n",
    "        id5[Divisão inteira do <b>Número</b> por 10] --> idp\n",
    "        idp -- True --> idf((Fim))\n",
    "    ```\n",
    "```"
   ]
  },
  {
   "cell_type": "markdown",
   "metadata": {},
   "source": [
    "**Solução:**"
   ]
  },
  {
   "cell_type": "markdown",
   "metadata": {},
   "source": [
    "```mermaid\n",
    "flowchart TB\n",
    "    idi((Início)) --> id1[\"Assuma que <b>NumRevertido</b> é 0\"] --> idp\n",
    "    idp{\"<b>Número</b> == 0?\"} -- False --> id3\n",
    "    id3[\"Calcule o <b>Resto</b> do <b>Número</b> dividido por 10\"] --> id4\n",
    "    id4[Multiplique <b>NumRevertido</b> por 10 e some com o <b>Resto</b>] --> id5\n",
    "    id5[Divisão inteira do <b>Número</b> por 10] --> idp\n",
    "    idp -- True --> idf((Fim))\n",
    "```"
   ]
  },
  {
   "cell_type": "code",
   "execution_count": null,
   "metadata": {},
   "outputs": [],
   "source": []
  },
  {
   "cell_type": "markdown",
   "metadata": {},
   "source": [
    "## Atividade 3: Para casa"
   ]
  },
  {
   "cell_type": "markdown",
   "metadata": {},
   "source": [
    "### Exercício 1: Função do segundo grau"
   ]
  },
  {
   "cell_type": "markdown",
   "metadata": {},
   "source": [
    "Uma parábola tem a sua função dada por:\n",
    "\n",
    "$$\n",
    "y(x)=ax^2+bx+c\n",
    "$$ \n",
    "\n",
    "De forma similar à tarefa da equação da reta crie um programa capaz de criar um gráfico de uma equação do segundo grau. Considere as seguintes premissas:\n",
    "\n",
    "- Os valores de $a$, $b$ e $c$ devem ser entradas do programa na forma de Sliders;\n",
    "- Os sliders devem variar de -6 a 6 com o passo de 0,1;\n",
    "- O título do gráfico deve mostrar a equação da parábola (Considere mostrar a equação correntamente, considerando as situações que $a$, $b$ e/ou $c$ podem ser zero ou que $a$ e/ou $b$ podem ser 1);\n",
    "- O usuário podera alterar a cor do gráfico através de um Widget;\n",
    "- O usuário pode mostrar ou ocultar o título;\n",
    "- O usuário pode mostrar ou ocultar os eixos;\n",
    "- Você deve utilizar $x$ como variável simbólica;\n",
    "- O gráfico deve ser plotado com a função `plot()` do pacote `sympy`."
   ]
  },
  {
   "cell_type": "code",
   "execution_count": null,
   "metadata": {},
   "outputs": [],
   "source": []
  },
  {
   "cell_type": "markdown",
   "metadata": {},
   "source": [
    "### Exercício 2: Dissecando uma string\n",
    "\n",
    "Faça um programa que tenha como entrada uma caixa de texto (o Widget `Textarea`). O programa deve analisar o conteúdo da caixa de texto e verificar se:\n",
    "\n",
    "- O texto só tem espaços;\n",
    "- O texto está vazio;\n",
    "- O texto é numérico;\n",
    "- O texto é alfabético;\n",
    "- O texto é alfanumérico;\n",
    "- O texto pode ser utilizado como um identificador padrão do Python;\n",
    "- O texto está em maiúsculas;\n",
    "- O texto está na forma de título;\n",
    "- O texto está em minúsculas.\n",
    "\n",
    "Você deve pesquisar sobre o Widget `Textarea` na documentação.\n",
    "\n",
    "A análise do texto deve ser feita em tempo real."
   ]
  },
  {
   "cell_type": "code",
   "execution_count": null,
   "metadata": {},
   "outputs": [],
   "source": []
  },
  {
   "cell_type": "markdown",
   "metadata": {},
   "source": [
    "### Exercício 3: Número de dígitos\n",
    "\n",
    "Crie um programa capaz de contar o número de digitos de um determinado número.\n",
    "\n",
    "- Use um widget de campo de texto como entrada;  \n",
    "- O programa deve aceitar somente números inteiros e positivos;  \n",
    "- Você deve trabalhar com o número (E não com a string).\n",
    "\n",
    "O usuário deve clicar num botão para fazer a análise do número (Use o `interact_manual`)."
   ]
  },
  {
   "cell_type": "code",
   "execution_count": null,
   "metadata": {},
   "outputs": [],
   "source": []
  },
  {
   "cell_type": "markdown",
   "metadata": {},
   "source": [
    "### Exercício 4: Formulário\n",
    "\n",
    "Crie um programa que capaz de fazer a inscrição de um determinado usuário. O formulário deve ter como entrada:\n",
    "\n",
    "- Nome (Só aceita se a string for na forma de título)\n",
    "- Nome do usuário (Só aceita se aceita se a string for um identificador padrão do Python)\n",
    "- Telefone (Só aceita se a string for numérica)\n",
    "\n",
    "Para aceitar a inscrição o usuário deve clicar num botão (Use o `interact_manual`).\n",
    "\n",
    "O programa só deve aceitar a inscrição somente se o Nome, Usuário e Telefone forem válidos. \n",
    "\n",
    "Caso a inscrição for inválida o programa deve indicar a causa do erro. Caso a inscrição seja válida o programa deve imprimir:\n",
    "\n",
    "> Inscrição validada com sucesso!"
   ]
  },
  {
   "cell_type": "code",
   "execution_count": null,
   "metadata": {},
   "outputs": [],
   "source": []
  }
 ],
 "metadata": {
  "kernelspec": {
   "display_name": "Python 3",
   "language": "python",
   "name": "python3"
  },
  "language_info": {
   "codemirror_mode": {
    "name": "ipython",
    "version": 3
   },
   "file_extension": ".py",
   "mimetype": "text/x-python",
   "name": "python",
   "nbconvert_exporter": "python",
   "pygments_lexer": "ipython3",
   "version": "3.8.3"
  },
  "toc-autonumbering": false
 },
 "nbformat": 4,
 "nbformat_minor": 4
}
