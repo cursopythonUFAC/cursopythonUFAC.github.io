{
 "cells": [
  {
   "cell_type": "markdown",
   "metadata": {},
   "source": [
    "# Capítulo 12: Classes\n",
    "Classes são formas de organizar e dar atributos aos objetos em Python. Uma classe é definida pelo `class` e tem a estrutura parecida à de uma função:\n",
    "```python\n",
    "    class nomedaclasse():\n",
    "        propriedade1 = 'alguma coisa'\n",
    "        propriedade2 = 'outra coisa'\n",
    "        \n",
    "        def metodo(self):\n",
    "            print(self.propriedade1)\n",
    "            \n",
    "```\n",
    "Onde a função `metodo` que foi definida na classe `nomedaclasse` é uma função que existe apenas nos objetos que são membros daquela classe."
   ]
  },
  {
   "cell_type": "markdown",
   "metadata": {},
   "source": [
    "## Atividade 1: Escopo e _Namespace_\n",
    "Agora que vimos o que é uma classe e entendemos um pouco de seu funcionamento vamos explorar o conceito de __escopo__ e __namespace__.\n",
    "O namespace consiste em todos os nomes que estão definidos no atual estado do interpretador, por exemplo, quando você importa o módulo `math` você adiciona todos aqueles nomes definidos no módulo math para o seu código.   \n",
    "O escopo se trata de quais objetos você pode acessar diretamente, vamos a um exemplo simples:\n",
    "```python\n",
    "var1 = 0\n",
    "\n",
    "def teste():\n",
    "    var2 = 0\n",
    "```\n",
    "Neste código temos 2 escopos, um global onde a variável `var1` está definida e um local onde temos além da `var1` está definida a `var2`. O mesmo ocorrem com as classes, todas as váriaveis definidas dentro de uma função ou classe são locais a não ser que seja explicitamente dito que ela é global."
   ]
  },
  {
   "cell_type": "code",
   "execution_count": 2,
   "metadata": {},
   "outputs": [],
   "source": [
    "var1 = 0\n",
    "class teste():\n",
    "    var2 = 1\n",
    "    global var3\n",
    "    var3 = 3"
   ]
  },
  {
   "cell_type": "code",
   "execution_count": 2,
   "metadata": {},
   "outputs": [
    {
     "name": "stdout",
     "output_type": "stream",
     "text": [
      "0 3\n"
     ]
    }
   ],
   "source": [
    "print(var1, var3)"
   ]
  },
  {
   "cell_type": "code",
   "execution_count": 3,
   "metadata": {},
   "outputs": [
    {
     "ename": "NameError",
     "evalue": "name 'var2' is not defined",
     "output_type": "error",
     "traceback": [
      "\u001b[0;31m---------------------------------------------------------------------------\u001b[0m",
      "\u001b[0;31mNameError\u001b[0m                                 Traceback (most recent call last)",
      "\u001b[0;32m<ipython-input-3-5395c735b10d>\u001b[0m in \u001b[0;36m<module>\u001b[0;34m\u001b[0m\n\u001b[0;32m----> 1\u001b[0;31m \u001b[0mvar2\u001b[0m\u001b[0;34m\u001b[0m\u001b[0;34m\u001b[0m\u001b[0m\n\u001b[0m",
      "\u001b[0;31mNameError\u001b[0m: name 'var2' is not defined"
     ]
    }
   ],
   "source": [
    "var2"
   ]
  },
  {
   "cell_type": "markdown",
   "metadata": {},
   "source": [
    "Preste bastantteste.var2e atenção que o erro exibido ao tentar apresentar a `var2` é um erro de nome, pois ela não está definida globalmente, portanto, só faz parte do namespace da classe `teste`."
   ]
  },
  {
   "cell_type": "code",
   "execution_count": 4,
   "metadata": {},
   "outputs": [
    {
     "data": {
      "text/plain": [
       "1"
      ]
     },
     "execution_count": 4,
     "metadata": {},
     "output_type": "execute_result"
    }
   ],
   "source": [
    "teste.var2"
   ]
  },
  {
   "cell_type": "markdown",
   "metadata": {},
   "source": [
    "## Atividade 2: Classes\n",
    "### Exemplo 1: Comando Type\n",
    "Tudo, ou quase tudo, no Python é baseado em classes. Por exemplo, observe as saídas do comando `type`:"
   ]
  },
  {
   "cell_type": "code",
   "execution_count": 5,
   "metadata": {},
   "outputs": [
    {
     "name": "stdout",
     "output_type": "stream",
     "text": [
      "<class 'str'>\n",
      "<class 'int'>\n",
      "<class 'list'>\n"
     ]
    }
   ],
   "source": [
    "print(type('a'))\n",
    "print(type(1))\n",
    "print(type([1,2]))"
   ]
  },
  {
   "cell_type": "markdown",
   "metadata": {},
   "source": [
    "Observe, que a saída é a `classe` a qual aquele objeto pertece."
   ]
  },
  {
   "cell_type": "markdown",
   "metadata": {},
   "source": [
    "### Exemplo 2: Criando uma classe simples \n",
    "Imagine a seguinte classe:"
   ]
  },
  {
   "cell_type": "code",
   "execution_count": 6,
   "metadata": {},
   "outputs": [],
   "source": [
    "class cachorro():\n",
    "    nome = 'bob'\n",
    "    idade = 2\n",
    "    peso = 10"
   ]
  },
  {
   "cell_type": "markdown",
   "metadata": {},
   "source": [
    "Essa classe tem três __atributos__, o nome, a idade e o peso. Todos os objetos __instanciados__ com essa classe terão os mesmos três __atributos__, com o mesmo valor.\n",
    ">OBS: Um objeto e instância são utilizados como sinônimos. Por exemplo, uma string é uma _instância_ da classe `string`, um número inteiro é um _objeto_ da classe `int` e compartilha os mesmos atributos de todos os objetos membros da mesma.\n",
    "\n",
    "Vamos criar um objeto da classe `cachorro`:"
   ]
  },
  {
   "cell_type": "code",
   "execution_count": 7,
   "metadata": {},
   "outputs": [],
   "source": [
    "bob = cachorro()"
   ]
  },
  {
   "cell_type": "code",
   "execution_count": 8,
   "metadata": {},
   "outputs": [
    {
     "data": {
      "text/plain": [
       "'bob'"
      ]
     },
     "execution_count": 8,
     "metadata": {},
     "output_type": "execute_result"
    }
   ],
   "source": [
    "bob.nome"
   ]
  },
  {
   "cell_type": "markdown",
   "metadata": {},
   "source": [
    "Além dos valores padrão da classe, podemos criar atributos temporários, esses são chamados atributos _instanciados_:"
   ]
  },
  {
   "cell_type": "code",
   "execution_count": 9,
   "metadata": {},
   "outputs": [],
   "source": [
    "bob.altura = 100"
   ]
  },
  {
   "cell_type": "code",
   "execution_count": 10,
   "metadata": {},
   "outputs": [
    {
     "data": {
      "text/plain": [
       "100"
      ]
     },
     "execution_count": 10,
     "metadata": {},
     "output_type": "execute_result"
    }
   ],
   "source": [
    "bob.altura"
   ]
  },
  {
   "cell_type": "markdown",
   "metadata": {},
   "source": [
    "Se criarmos um atributo instanciado com o mesmo nome de um atributo de classe, o interpretador vai utilizar o valor instanciado:"
   ]
  },
  {
   "cell_type": "code",
   "execution_count": 11,
   "metadata": {},
   "outputs": [
    {
     "name": "stdout",
     "output_type": "stream",
     "text": [
      "10\n",
      "15\n"
     ]
    }
   ],
   "source": [
    "print(bob.peso)\n",
    "bob.peso = 15\n",
    "print(bob.peso)"
   ]
  },
  {
   "cell_type": "markdown",
   "metadata": {},
   "source": [
    "### Exemplo 2: Inicialização de classe\n",
    "Agora vamos utilizar um método chamado `__init__`, esse método é utilizado para inicializar uma classe com valores. O argumento `self` é uma convenção e indica o uso do próprio objeto instanciado, isto é, permite utilizar as propriedades já atribuídas na classe."
   ]
  },
  {
   "cell_type": "code",
   "execution_count": 12,
   "metadata": {},
   "outputs": [],
   "source": [
    "class cachorro():\n",
    "    def __init__(self, nome, idade, peso):\n",
    "        self.nome = nome\n",
    "        self.idade = idade\n",
    "        self.peso = peso\n",
    "        self.espécie = 'Canis familiaris'"
   ]
  },
  {
   "cell_type": "markdown",
   "metadata": {},
   "source": [
    "Assim podemos instanciar um objeto da classe `cachorro`, com os valores personalizados:"
   ]
  },
  {
   "cell_type": "code",
   "execution_count": 13,
   "metadata": {},
   "outputs": [],
   "source": [
    "bob = cachorro('bob', 2, 10)"
   ]
  },
  {
   "cell_type": "code",
   "execution_count": 14,
   "metadata": {},
   "outputs": [
    {
     "data": {
      "text/plain": [
       "'Canis familiaris'"
      ]
     },
     "execution_count": 14,
     "metadata": {},
     "output_type": "execute_result"
    }
   ],
   "source": [
    "bob.espécie"
   ]
  },
  {
   "cell_type": "markdown",
   "metadata": {},
   "source": [
    "### Exemplo 3: Métodos de classe\n",
    "Os métodos de classes são funções específicas para os objetos membros, isto é, elas estão definidas apenas para aqueles instancias da classe."
   ]
  },
  {
   "cell_type": "code",
   "execution_count": 15,
   "metadata": {},
   "outputs": [],
   "source": [
    "class cachorro():\n",
    "    def __init__(self, nome, idade, peso):\n",
    "        self.nome = nome\n",
    "        self.idade = idade\n",
    "        self.peso = peso\n",
    "        self.espécie = 'Canis familiaris'\n",
    "    \n",
    "    def latido(self):\n",
    "        print(3*'au')\n",
    "        \n",
    "bob = cachorro('bob', 2, 10)"
   ]
  },
  {
   "cell_type": "markdown",
   "metadata": {},
   "source": [
    "Ao invocarmos seu método temos:"
   ]
  },
  {
   "cell_type": "code",
   "execution_count": 16,
   "metadata": {},
   "outputs": [
    {
     "name": "stdout",
     "output_type": "stream",
     "text": [
      "auauau\n"
     ]
    }
   ],
   "source": [
    "bob.latido()"
   ]
  },
  {
   "cell_type": "markdown",
   "metadata": {},
   "source": [
    "### Exemplo 4: Copia de objetos de classe"
   ]
  },
  {
   "cell_type": "markdown",
   "metadata": {},
   "source": [
    "As classes tem comportamento parecido ao das listas quando se fala de cópias:"
   ]
  },
  {
   "cell_type": "code",
   "execution_count": 17,
   "metadata": {},
   "outputs": [
    {
     "name": "stdout",
     "output_type": "stream",
     "text": [
      "roscoe roscoe\n"
     ]
    }
   ],
   "source": [
    "roscoe = bob\n",
    "roscoe.nome = 'roscoe'\n",
    "print(roscoe.nome, bob.nome)"
   ]
  },
  {
   "cell_type": "markdown",
   "metadata": {},
   "source": [
    "Se quisermos copiar devemos utilizar o `copy`:"
   ]
  },
  {
   "cell_type": "code",
   "execution_count": 18,
   "metadata": {},
   "outputs": [
    {
     "name": "stdout",
     "output_type": "stream",
     "text": [
      "bob roscoe\n"
     ]
    }
   ],
   "source": [
    "import copy\n",
    "\n",
    "bob = copy.copy(roscoe)\n",
    "bob.name = 'bob'\n",
    "print(bob.name, roscoe.nome)"
   ]
  },
  {
   "cell_type": "markdown",
   "metadata": {},
   "source": [
    "## Exemplo 5: Herança de Classe\n",
    "__Tarefa 1: Classe de Empregados__  \n",
    "Vamos criar uma classe simples de empregados, essa classe deve apresentar o nome, salário, função e ter um método de reajuste salárial."
   ]
  },
  {
   "cell_type": "code",
   "execution_count": 19,
   "metadata": {},
   "outputs": [],
   "source": [
    "class empregado():\n",
    "    def __init__(self, nome:str, sal:float, fun:str):\n",
    "        self.nome = nome\n",
    "        self.salario = sal\n",
    "        self.funcao = fun\n",
    "    \n",
    "    def info(self):\n",
    "        ret = 'Nome: {}\\nSalário: R$ {}\\nFunção: {}'.format(\n",
    "            self.nome,self.salario,self.funcao)\n",
    "        return ret\n",
    "    \n",
    "    def reajuste(self, ajuste):\n",
    "        self.salario *= ajuste "
   ]
  },
  {
   "cell_type": "code",
   "execution_count": 20,
   "metadata": {},
   "outputs": [
    {
     "name": "stdout",
     "output_type": "stream",
     "text": [
      "Nome: João\n",
      "Salário: R$ 1500\n",
      "Função: Aux. Adminstrativo\n",
      "Nome: João\n",
      "Salário: R$ 22500\n",
      "Função: Aux. Adminstrativo\n"
     ]
    }
   ],
   "source": [
    "joao = empregado('João', 1500, 'Aux. Adminstrativo')\n",
    "print(joao.info())\n",
    "joao.reajuste(15)\n",
    "print(joao.info())"
   ]
  },
  {
   "cell_type": "markdown",
   "metadata": {},
   "source": [
    "Funções também podem ser criadas a partir de uma já existente, vamos tomar a classe `empregado` como base para a classe `jornalista`:"
   ]
  },
  {
   "cell_type": "code",
   "execution_count": 21,
   "metadata": {},
   "outputs": [],
   "source": [
    "class jornalista(empregado):\n",
    "    def __init__(self, nome: str, sal: float):\n",
    "        empregado.__init__(self, nome, sal, fun='Jornalista')\n",
    "    \n",
    "    def reajuste_porcento(self, ajuste: float) -> float:\n",
    "        empregado.reajuste(ajuste/100)\n",
    "        return self.salario"
   ]
  },
  {
   "cell_type": "code",
   "execution_count": 22,
   "metadata": {},
   "outputs": [
    {
     "name": "stdout",
     "output_type": "stream",
     "text": [
      "Nome: Juca\n",
      "Salário: R$ 2500\n",
      "Função: Jornalista\n"
     ]
    }
   ],
   "source": [
    "juca = jornalista('Juca', 2500)\n",
    "print(juca.info())"
   ]
  },
  {
   "cell_type": "markdown",
   "metadata": {},
   "source": [
    "__Tarefa 2: Uma Classe Completa__  \n",
    "Vamos criar uma classe música com atributos básicos de nome da música, álbum, artista/banda, ano, gênero. Depois crie uma subclasse com atributos específicos apresentado abaixo:\n",
    ">Jazz, Subgênero.  \n",
    ">Rock, artista da banda.  \n",
    ">Eletronica, BPM.  \n",
    "\n",
    "Se quiser, use o https://musicbrainz.org/"
   ]
  },
  {
   "cell_type": "code",
   "execution_count": 23,
   "metadata": {},
   "outputs": [],
   "source": [
    "class musica():\n",
    "    def __init__(self, data: dict):\n",
    "        self.nome = data['nome']\n",
    "        self.album = data['album']\n",
    "        self.artista = data['artista']\n",
    "        self.ano = data['ano']\n",
    "        self.genero = data['genero']\n",
    "    \n",
    "    def info(self) -> str:\n",
    "        ret = '{} - {} - {}\\n'.format(self.artista, self.album, self.nome)\n",
    "        ret += 'Gênero: {}\\nAno: {}'.format(self.genero, self.ano)\n",
    "        return ret\n",
    "    \n",
    "    def info_dict(self) -> dict:\n",
    "        ret = {\n",
    "            'nome': self.nome, \n",
    "            'album': self.album, \n",
    "            'artista': self.artista, \n",
    "            'ano': self.ano,\n",
    "            'genero': self.genero,\n",
    "        }\n",
    "        return ret\n",
    "\n",
    "class musica_jazz(musica):\n",
    "    def __init__(self, data: dict):\n",
    "        musica.__init__(self, data)\n",
    "        self.subgenero = data['subgenero']\n",
    "    \n",
    "    def info(self) -> str:\n",
    "        ret = musica.info(self)\n",
    "        if isinstance(self.subgenero, list):\n",
    "            for subgenero in self.subgenero:\n",
    "                ret += '\\nsubgenero: {}'.format(subgenero)\n",
    "        else:\n",
    "            ret += '\\nSubgenero: {}'.format(self.subgenero)\n",
    "        return ret"
   ]
  },
  {
   "cell_type": "code",
   "execution_count": 24,
   "metadata": {},
   "outputs": [],
   "source": [
    "data1 = {\n",
    "    'nome': 'Time Alone With You',\n",
    "    'album': 'Djessie Vol. 3', \n",
    "    'artista': 'Jacob Collier', \n",
    "    'ano': 2020,\n",
    "    'genero': 'Jazz',\n",
    "    'subgenero': ['Contemporary Jazz', 'Funk'],\n",
    "}\n",
    "musica1 = musica_jazz(data1)"
   ]
  },
  {
   "cell_type": "code",
   "execution_count": 25,
   "metadata": {},
   "outputs": [
    {
     "name": "stdout",
     "output_type": "stream",
     "text": [
      "Jacob Collier - Djessie Vol. 3 - Time Alone With You\n",
      "Gênero: Jazz\n",
      "Ano: 2020\n",
      "subgenero: Contemporary Jazz\n",
      "subgenero: Funk\n"
     ]
    }
   ],
   "source": [
    "print(musica1.info())"
   ]
  },
  {
   "cell_type": "markdown",
   "metadata": {},
   "source": [
    "## Atividade 3: Além-Mar\n",
    "Vamos explorar alguns códigos já feitos:\n",
    ">[Programa de Estoque](https://github.com/Leonardobat/Estoque-pyside2)  \n",
    ">Jogo de F1, ainda vou upar no Git...  \n",
    ">[Servidor TCP](https://github.com/Leonardobat/Exemplos_Python/blob/master/Exemplo_Servidor_TCP.py)"
   ]
  }
 ],
 "metadata": {
  "kernelspec": {
   "display_name": "Python 3",
   "language": "python",
   "name": "python3"
  },
  "language_info": {
   "codemirror_mode": {
    "name": "ipython",
    "version": 3
   },
   "file_extension": ".py",
   "mimetype": "text/x-python",
   "name": "python",
   "nbconvert_exporter": "python",
   "pygments_lexer": "ipython3",
   "version": "3.8.5"
  }
 },
 "nbformat": 4,
 "nbformat_minor": 4
}
