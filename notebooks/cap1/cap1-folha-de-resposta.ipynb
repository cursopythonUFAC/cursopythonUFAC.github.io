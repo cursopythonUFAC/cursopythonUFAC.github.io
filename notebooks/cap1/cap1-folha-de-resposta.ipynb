{
 "cells": [
  {
   "cell_type": "markdown",
   "metadata": {},
   "source": [
    "<!---\n",
    "Escreva seu cabeçalho nesta célula \n",
    "\n",
    "Utilize o mesmo cabeçalho que fizemos em sala\n",
    "Não se esqueça de colocar pelo menos seu nome completo, título do capítulo e e-mail\n",
    "\n",
    "OBS: Apague todos os comentários após fazer o seu exercício\n",
    "-->\n",
    "\n",
    "\n",
    "\n",
    "\n",
    "\n"
   ]
  },
  {
   "cell_type": "markdown",
   "metadata": {},
   "source": [
    "### Exercício 1: Complete a frase\n",
    "\n",
    "Crie pequeno programa (uma ou mais células) capaz de produzir a seguinte frase:\n",
    "\n",
    "> \"Olá, meu nome é \\_\\_\\_\\_\\_\\_, tenho \\_\\_\\_ anos, e minha idade daqui a 5 anos será \\_\\_\\_.\"\n",
    "\n",
    "Tente construir a seguinte frase, utilizando `input()`, `print()` .\n",
    "\n",
    "- Utilize conversão de dados.\n",
    "- Reescreva o programa utilizando múltiplos dados de entrada na função `print()`\n",
    "\n",
    "> **Observação:** Não se esqueça de escrever o enunciado do programa em Markdown."
   ]
  },
  {
   "cell_type": "markdown",
   "metadata": {},
   "source": [
    "<!--- \n",
    "Escreva aqui o enunciado do seu programa\n",
    "Pense que o usuário deve ler o enunciado \n",
    "para saber o que o seu programa faz e como operá-lo -->"
   ]
  },
  {
   "cell_type": "code",
   "execution_count": null,
   "metadata": {},
   "outputs": [],
   "source": [
    "# Escreva aqui o seu programa"
   ]
  },
  {
   "cell_type": "markdown",
   "metadata": {},
   "source": [
    "### Exercício 2: Pergunta teórica\n",
    "\n",
    "Por que a expressão abaixo causa erro? \n",
    "\n",
    "```python\n",
    "print('Eu saí de casa ' + 10 + ' vezes na semana passada')\n",
    "```\n",
    "\n",
    "> **Dica:** Responda esta pergunta utilizando o modo texto (Markdown)."
   ]
  },
  {
   "cell_type": "markdown",
   "metadata": {},
   "source": [
    "<!--- Escreva aqui sua resposta -->"
   ]
  },
  {
   "cell_type": "markdown",
   "metadata": {},
   "source": [
    "### Exercício 3: Fórmula de báskara\n",
    "\n",
    "Crie pequeno programa (uma célula) capaz de resolver qualquer equação de segundo:\n",
    "$$\n",
    "ax^2+bx+c=0\n",
    "$$\n",
    "O usuário deve entrar com os parâmetros $a$, $b$ e $c$. Utilize a função input para capturar os dados de entrada.\n",
    "\n",
    "> **Dica:**\n",
    ">\n",
    "> Para resolver a equação de segundo grau você pode utilizar a fórmula de Baskara:  \n",
    ">\n",
    "> $${x_1,x_2}=\\frac{-b\\pm\\sqrt{\\Delta}}{2a}$$\n",
    ">\n",
    "> $$\\Delta=b^2-4ac$$\n",
    "\n",
    "Está equação retorna duas soluções, $x_1$ e $x_2$. Você deve usar a função `print()` para imprimir o resultado das variáveis $x_1$ e $x_2$ na tela na tela. \n",
    "\n",
    "> **Observação:** Não se esqueça de escrever o enunciado do programa em Markdown."
   ]
  },
  {
   "cell_type": "markdown",
   "metadata": {},
   "source": [
    "<!--- \n",
    "Escreva aqui o enunciado do seu programa\n",
    "Pense que o usuário deve ler o enunciado \n",
    "para saber o que o seu programa faz e como operá-lo -->"
   ]
  },
  {
   "cell_type": "code",
   "execution_count": null,
   "metadata": {},
   "outputs": [],
   "source": [
    "# Escreva aqui o seu programa"
   ]
  },
  {
   "cell_type": "markdown",
   "metadata": {},
   "source": [
    "### Exercício 4: Trocando valores de duas variáveis\n",
    "\n",
    "Crie uma pequeno programa capaz de trocar duas variáveis, $a$ e $b$.\n",
    "\n",
    "- O usuário deve entrar com as variáveis $a$ e $b$ (Use a função `input()`).\n",
    "- Na saída o programa deve informar o valor das variáveis $a$ e $b$ (Use a função `print()`).\n",
    "- O programa deve ser capaz de trocar as variáveis sem a necessidade de criar uma terceira variável.\n",
    "\n",
    "> **Observação:** Não se esqueça de escrever o enunciado do programa em Markdown.\n",
    "\n",
    ">  **Dica:** Utilize o conceito de atribuição múltipla para fazer a troca das variáveis. "
   ]
  },
  {
   "cell_type": "markdown",
   "metadata": {},
   "source": [
    "<!--- \n",
    "Escreva aqui o enunciado do seu programa\n",
    "Pense que o usuário deve ler o enunciado \n",
    "para saber o que o seu programa faz e como operá-lo -->"
   ]
  },
  {
   "cell_type": "code",
   "execution_count": null,
   "metadata": {},
   "outputs": [],
   "source": [
    "# Escreva aqui o seu programa"
   ]
  }
 ],
 "metadata": {
  "kernelspec": {
   "display_name": "Python 3",
   "language": "python",
   "name": "python3"
  },
  "language_info": {
   "codemirror_mode": {
    "name": "ipython",
    "version": 3
   },
   "file_extension": ".py",
   "mimetype": "text/x-python",
   "name": "python",
   "nbconvert_exporter": "python",
   "pygments_lexer": "ipython3",
   "version": "3.8.3"
  }
 },
 "nbformat": 4,
 "nbformat_minor": 4
}
