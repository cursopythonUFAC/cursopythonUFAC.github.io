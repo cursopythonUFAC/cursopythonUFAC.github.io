{
 "cells": [
  {
   "cell_type": "markdown",
   "metadata": {},
   "source": [
    "# Capítulo 1: Primeiros passos\n",
    "\n",
    "----\n",
    "**Nome do aluno(a)**: Lucas Lima Rodrigues  \n",
    "__Matrícula__: 1142345353  \n",
    "__Telefone__: (68) 99999-9999  \n",
    "**E-mail**: lucaslrodri@cursopythonufac.github.br\n",
    "\n",
    "----"
   ]
  },
  {
   "cell_type": "markdown",
   "metadata": {},
   "source": [
    "## A interface do Jupyter\n",
    "----\n",
    "\n",
    "Para entendermos o conceito de células, vamos simplesmente copiar e colar sempre alternando entre o modo texto (Markdown) e o modo código (Python)."
   ]
  },
  {
   "cell_type": "code",
   "execution_count": 1,
   "metadata": {},
   "outputs": [
    {
     "name": "stdout",
     "output_type": "stream",
     "text": [
      "Olá mundo\n"
     ]
    }
   ],
   "source": [
    "# Está célula está em Python.\n",
    "# Iremos escrever nossa primeira célula\n",
    "print(\"Olá mundo\")"
   ]
  },
  {
   "cell_type": "markdown",
   "metadata": {},
   "source": [
    "Esta célula está em Markdown e apresenta uma função quadrática:\n",
    "$$y(t)=t^2+2t+3$$"
   ]
  },
  {
   "cell_type": "code",
   "execution_count": 2,
   "metadata": {},
   "outputs": [
    {
     "data": {
      "image/png": "[encoded data removed]",
      "text/plain": [
       "<Figure size 432x288 with 1 Axes>"
      ]
     },
     "metadata": {
      "needs_background": "light"
     },
     "output_type": "display_data"
    }
   ],
   "source": [
    "# Esta célula está em Python e está plotando a equação acima\n",
    "\n",
    "import matplotlib.pyplot as plt\n",
    "import numpy as np\n",
    "t = np.linspace(-12, 10, num=100)\n",
    "y = t**2+2*t+3 \n",
    "plt.plot(t, y) \n",
    "plt.xlabel('t - Tempo (s)') \n",
    "plt.ylabel('y - Saída') \n",
    "plt.title('Função quadrática') \n",
    "plt.show() "
   ]
  },
  {
   "cell_type": "markdown",
   "metadata": {},
   "source": [
    "Vamos resetar o Kernel e executar as células de código (Python) na seguinte ordem:\n",
    "\n",
    "\n",
    "\n",
    "> Usamos `Ctrl+Enter` para executar uma célula e os botões $\\uparrow$ e $\\downarrow$ para mover entre as células."
   ]
  },
  {
   "cell_type": "code",
   "execution_count": 3,
   "metadata": {},
   "outputs": [],
   "source": [
    "# Célula de código 1\n",
    "# Função: Atribua o valor 0 à variável 'x'\n",
    "x=0"
   ]
  },
  {
   "cell_type": "code",
   "execution_count": 4,
   "metadata": {},
   "outputs": [],
   "source": [
    "# Célula de código 2\n",
    "# Incremente esta variável em 1\n",
    "x=x+1"
   ]
  },
  {
   "cell_type": "code",
   "execution_count": 5,
   "metadata": {},
   "outputs": [
    {
     "data": {
      "text/plain": [
       "1"
      ]
     },
     "execution_count": 5,
     "metadata": {},
     "output_type": "execute_result"
    }
   ],
   "source": [
    "# Célula de código 3\n",
    "# Mostre o valor de 'x'\n",
    "x"
   ]
  },
  {
   "cell_type": "markdown",
   "metadata": {},
   "source": [
    "## Atividade 2: Introdução Markdown\n",
    "\n",
    "**Nome**: Lucas Lima Rodrigues\n",
    "\n",
    "**Cor favorita**: Azul\n",
    "\n",
    "**Capítulo**: Primeiro capítulo \n",
    "\n",
    "**Data**: *11 de setembro de 2020*\n"
   ]
  },
  {
   "cell_type": "markdown",
   "metadata": {},
   "source": [
    "Como escrever um código em Markdown:\n",
    "\n",
    "```python\n",
    "ling = \"python\"\n",
    "\n",
    "if ling != \"python\":\n",
    "    print(\"Essa linguagem não serve para nada\")\n",
    "else:\n",
    "    print(\"Melhor linguagem.\")\n",
    "```"
   ]
  },
  {
   "cell_type": "markdown",
   "metadata": {},
   "source": [
    "Vamos aprender como fazer uma citação:\n",
    "\n",
    "> O ceu é azul e a grama é verde, porque a grama tem clorofila.  \n",
    "> Olá mundo"
   ]
  },
  {
   "cell_type": "markdown",
   "metadata": {},
   "source": [
    "Como faz uma lista:\n",
    "\n",
    "**Listas ordenadas**:\n",
    "\n",
    "Meus pokemons favoritos:\n",
    "\n",
    "1. Dragonite\n",
    "2. Lucario\n",
    "3. Pikachu\n",
    "4. Charmander\n"
   ]
  },
  {
   "cell_type": "markdown",
   "metadata": {},
   "source": [
    "**Lista não ordenada**\n",
    "\n",
    "Coisas que eu tenho que comprar no supermercado:\n",
    "\n",
    "- Ovo\n",
    "- Lasanha\n",
    "- Carne\n",
    "- Arroz\n",
    "- Feijão\n",
    "- Coquinha gelada\n",
    "\n",
    "Fazer um bolo:\n",
    "\n",
    "- Ingredientes:\n",
    "  - Ovo\n",
    "  - Farinha de trigo\n",
    "  - Leite\n",
    "  - Fermento\n",
    "- Modo de preparo:  \n",
    "  1. Bata no liquidificador o leite com o ovo\n",
    "  2. Jogue a farinha de trigo na mistura\n",
    "  3. Bote para assar\n"
   ]
  },
  {
   "cell_type": "markdown",
   "metadata": {},
   "source": [
    "## Atividade 3: Primeiros passos com o Python\n",
    "\n",
    "\n",
    "### Parte 1: Comentários\n",
    "Nesta parte iremos aprender como fazer comentários:"
   ]
  },
  {
   "cell_type": "code",
   "execution_count": 6,
   "metadata": {},
   "outputs": [
    {
     "name": "stdout",
     "output_type": "stream",
     "text": [
      "\n"
     ]
    }
   ],
   "source": [
    "# Isto é um comentário e não pode ser executado\n",
    "# Comentários servem para você explicar o seu código e adiciona informações adicionais\n",
    "# Usando o '#' eu crio um comentário com uma única linha\n",
    "\n",
    "\n",
    "'''\n",
    "Capítulo 1: Primeiros passos\n",
    "----------------\n",
    "Data: 11 de setembro de 2020\n",
    "E-mail: blablabla@blablabla.com\n",
    "Telefone: (68) 111111-11111\n",
    "Estado: Acre\n",
    "'''\n",
    "\n",
    "#Precisamos adicionar qualquer código para o comentário não gerar uma string multilinha\n",
    "print('')"
   ]
  },
  {
   "cell_type": "markdown",
   "metadata": {},
   "source": [
    "### Parte 2: Operadores\n",
    "\n",
    "Alguns operadores são os mesmos da matemática. Você trabalha como se estivesse fazendo uma operação numa calculadora:"
   ]
  },
  {
   "cell_type": "code",
   "execution_count": 7,
   "metadata": {},
   "outputs": [
    {
     "data": {
      "text/plain": [
       "4"
      ]
     },
     "execution_count": 7,
     "metadata": {},
     "output_type": "execute_result"
    }
   ],
   "source": [
    "2+2"
   ]
  },
  {
   "cell_type": "code",
   "execution_count": 8,
   "metadata": {},
   "outputs": [
    {
     "data": {
      "text/plain": [
       "11"
      ]
     },
     "execution_count": 8,
     "metadata": {},
     "output_type": "execute_result"
    }
   ],
   "source": [
    "2+3+6"
   ]
  },
  {
   "cell_type": "code",
   "execution_count": 9,
   "metadata": {},
   "outputs": [
    {
     "data": {
      "text/plain": [
       "3.2857142857142856"
      ]
     },
     "execution_count": 9,
     "metadata": {},
     "output_type": "execute_result"
    }
   ],
   "source": [
    "23/7"
   ]
  },
  {
   "cell_type": "code",
   "execution_count": 10,
   "metadata": {},
   "outputs": [
    {
     "data": {
      "text/plain": [
       "27"
      ]
     },
     "execution_count": 10,
     "metadata": {},
     "output_type": "execute_result"
    }
   ],
   "source": [
    "3*9"
   ]
  },
  {
   "cell_type": "code",
   "execution_count": 11,
   "metadata": {},
   "outputs": [
    {
     "data": {
      "text/plain": [
       "3"
      ]
     },
     "execution_count": 11,
     "metadata": {},
     "output_type": "execute_result"
    }
   ],
   "source": [
    "7-4"
   ]
  },
  {
   "cell_type": "markdown",
   "metadata": {},
   "source": [
    "Outros operadores:\n",
    "\n",
    "- Exponenciação \"**\":"
   ]
  },
  {
   "cell_type": "code",
   "execution_count": 12,
   "metadata": {},
   "outputs": [
    {
     "data": {
      "text/plain": [
       "8"
      ]
     },
     "execution_count": 12,
     "metadata": {},
     "output_type": "execute_result"
    }
   ],
   "source": [
    "2**3"
   ]
  },
  {
   "cell_type": "markdown",
   "metadata": {},
   "source": [
    "- Parte inteira \"//\":"
   ]
  },
  {
   "cell_type": "code",
   "execution_count": 13,
   "metadata": {},
   "outputs": [
    {
     "data": {
      "text/plain": [
       "1"
      ]
     },
     "execution_count": 13,
     "metadata": {},
     "output_type": "execute_result"
    }
   ],
   "source": [
    "8//7"
   ]
  },
  {
   "cell_type": "code",
   "execution_count": 14,
   "metadata": {},
   "outputs": [
    {
     "data": {
      "text/plain": [
       "3"
      ]
     },
     "execution_count": 14,
     "metadata": {},
     "output_type": "execute_result"
    }
   ],
   "source": [
    "23//7"
   ]
  },
  {
   "cell_type": "code",
   "execution_count": 15,
   "metadata": {},
   "outputs": [
    {
     "data": {
      "text/plain": [
       "16"
      ]
     },
     "execution_count": 15,
     "metadata": {},
     "output_type": "execute_result"
    }
   ],
   "source": [
    "50//3"
   ]
  },
  {
   "cell_type": "markdown",
   "metadata": {},
   "source": [
    "- Resto \"%\""
   ]
  },
  {
   "cell_type": "code",
   "execution_count": 16,
   "metadata": {},
   "outputs": [
    {
     "data": {
      "text/plain": [
       "2"
      ]
     },
     "execution_count": 16,
     "metadata": {},
     "output_type": "execute_result"
    }
   ],
   "source": [
    "23%7"
   ]
  },
  {
   "cell_type": "code",
   "execution_count": 17,
   "metadata": {},
   "outputs": [
    {
     "data": {
      "text/plain": [
       "0"
      ]
     },
     "execution_count": 17,
     "metadata": {},
     "output_type": "execute_result"
    }
   ],
   "source": [
    "40%4"
   ]
  },
  {
   "cell_type": "code",
   "execution_count": 18,
   "metadata": {},
   "outputs": [
    {
     "data": {
      "text/plain": [
       "3"
      ]
     },
     "execution_count": 18,
     "metadata": {},
     "output_type": "execute_result"
    }
   ],
   "source": [
    "43%4"
   ]
  },
  {
   "cell_type": "markdown",
   "metadata": {},
   "source": [
    "Além disso, podemos utilizar parênteses que nem na matemática:"
   ]
  },
  {
   "cell_type": "code",
   "execution_count": 19,
   "metadata": {},
   "outputs": [
    {
     "data": {
      "text/plain": [
       "16.0"
      ]
     },
     "execution_count": 19,
     "metadata": {},
     "output_type": "execute_result"
    }
   ],
   "source": [
    "(5-1)*((7+1)/(3-1))"
   ]
  },
  {
   "cell_type": "markdown",
   "metadata": {},
   "source": [
    "Agora vamos praticar alguns exemplos:\n",
    "\n",
    "- $\\frac{8}{2}\\times (2+2)$"
   ]
  },
  {
   "cell_type": "code",
   "execution_count": 20,
   "metadata": {},
   "outputs": [
    {
     "data": {
      "text/plain": [
       "16.0"
      ]
     },
     "execution_count": 20,
     "metadata": {},
     "output_type": "execute_result"
    }
   ],
   "source": [
    "8/2*(2+2)"
   ]
  },
  {
   "cell_type": "markdown",
   "metadata": {},
   "source": [
    "- $(2+3)\\times 3^3$"
   ]
  },
  {
   "cell_type": "code",
   "execution_count": 21,
   "metadata": {},
   "outputs": [
    {
     "data": {
      "text/plain": [
       "135"
      ]
     },
     "execution_count": 21,
     "metadata": {},
     "output_type": "execute_result"
    }
   ],
   "source": [
    "(2+3)*3**3"
   ]
  },
  {
   "cell_type": "markdown",
   "metadata": {},
   "source": [
    "- $7+7\\div 7+7\\times 7-7$"
   ]
  },
  {
   "cell_type": "code",
   "execution_count": 22,
   "metadata": {},
   "outputs": [
    {
     "data": {
      "text/plain": [
       "50.0"
      ]
     },
     "execution_count": 22,
     "metadata": {},
     "output_type": "execute_result"
    }
   ],
   "source": [
    "7+7/7+7*7-7"
   ]
  },
  {
   "cell_type": "markdown",
   "metadata": {},
   "source": [
    "- Raiz quadrada  \n",
    "$x^{0,5}=\\sqrt{x}$"
   ]
  },
  {
   "cell_type": "code",
   "execution_count": 23,
   "metadata": {},
   "outputs": [],
   "source": [
    "# x**(0.5)=raiz de x"
   ]
  },
  {
   "cell_type": "markdown",
   "metadata": {},
   "source": [
    "Raiz de 4:"
   ]
  },
  {
   "cell_type": "code",
   "execution_count": 24,
   "metadata": {},
   "outputs": [
    {
     "data": {
      "text/plain": [
       "2.0"
      ]
     },
     "execution_count": 24,
     "metadata": {},
     "output_type": "execute_result"
    }
   ],
   "source": [
    "4**0.5"
   ]
  },
  {
   "cell_type": "markdown",
   "metadata": {},
   "source": [
    "Exemplo mais complicado:  \n",
    "$\\sqrt{9^2-4\\times 3}$"
   ]
  },
  {
   "cell_type": "markdown",
   "metadata": {},
   "source": [
    "Vamos executar o seguinte código:\n",
    "```python\n",
    "5+\n",
    "```"
   ]
  },
  {
   "cell_type": "code",
   "execution_count": 25,
   "metadata": {},
   "outputs": [
    {
     "ename": "SyntaxError",
     "evalue": "invalid syntax (<ipython-input-25-7fd34a819fa2>, line 1)",
     "output_type": "error",
     "traceback": [
      "\u001b[0;36m  File \u001b[0;32m\"<ipython-input-25-7fd34a819fa2>\"\u001b[0;36m, line \u001b[0;32m1\u001b[0m\n\u001b[0;31m    5+\u001b[0m\n\u001b[0m      ^\u001b[0m\n\u001b[0;31mSyntaxError\u001b[0m\u001b[0;31m:\u001b[0m invalid syntax\n"
     ]
    }
   ],
   "source": [
    "5+"
   ]
  },
  {
   "cell_type": "markdown",
   "metadata": {},
   "source": [
    "### Parte 3: Tipos de dados"
   ]
  },
  {
   "cell_type": "markdown",
   "metadata": {},
   "source": [
    "Os principais tipos de dados do Python são:\n",
    "\n",
    "- Inteiros:\n",
    "> -2,-1,0,1,2,111111,-11111\n",
    "- Decimais (Ponto flutante):\n",
    "> 1.25, 5.43, 9.9, 10.1\n",
    "- Strings (Palavras):\n",
    "> 'a', \"abacaxi\", \"Hello!\", 'curso de python'\n",
    "\n",
    "Execute a string `python` no modo código:"
   ]
  },
  {
   "cell_type": "code",
   "execution_count": null,
   "metadata": {},
   "outputs": [],
   "source": [
    "'python'"
   ]
  },
  {
   "cell_type": "markdown",
   "metadata": {},
   "source": [
    "Execute a string `Curso de python`:"
   ]
  },
  {
   "cell_type": "markdown",
   "metadata": {},
   "source": [
    "Operações com string:\n",
    "\n",
    "- Concatenação \"+\""
   ]
  },
  {
   "cell_type": "code",
   "execution_count": 1,
   "metadata": {},
   "outputs": [
    {
     "data": {
      "text/plain": [
       "'curso de Python'"
      ]
     },
     "execution_count": 1,
     "metadata": {},
     "output_type": "execute_result"
    }
   ],
   "source": [
    "\"curso \"+\"de \"+\"Python\""
   ]
  },
  {
   "cell_type": "markdown",
   "metadata": {},
   "source": [
    "Concatenem as seguintes strings para formar uma frase:\n",
    "\n",
    "- `O `\n",
    "- `céu `\n",
    "- `é `\n",
    "- `Azul`"
   ]
  },
  {
   "cell_type": "markdown",
   "metadata": {},
   "source": [
    "- O operador de de repetição, \"*\", pode ser dado da seguinte forma:"
   ]
  },
  {
   "cell_type": "code",
   "execution_count": 2,
   "metadata": {},
   "outputs": [
    {
     "data": {
      "text/plain": [
       "'abacaxi abacaxi abacaxi abacaxi abacaxi '"
      ]
     },
     "execution_count": 2,
     "metadata": {},
     "output_type": "execute_result"
    }
   ],
   "source": [
    "5 * 'abacaxi '"
   ]
  },
  {
   "cell_type": "markdown",
   "metadata": {},
   "source": [
    "Utilizando os operadores de string escreva a seguinte frase:\n",
    "> O céu é Azul Azul Azul !\n",
    "\n",
    "Utilizando as seguintes strings:  \n",
    "- `O`\n",
    "- `céu`\n",
    "- `é`\n",
    "- `Azul`"
   ]
  },
  {
   "cell_type": "code",
   "execution_count": 3,
   "metadata": {},
   "outputs": [
    {
     "data": {
      "text/plain": [
       "'O céu é azul azul azul '"
      ]
     },
     "execution_count": 3,
     "metadata": {},
     "output_type": "execute_result"
    }
   ],
   "source": [
    "'O '+'céu '+'é '+3*'azul '"
   ]
  },
  {
   "cell_type": "code",
   "execution_count": 8,
   "metadata": {},
   "outputs": [
    {
     "data": {
      "text/plain": [
       "4.0"
      ]
     },
     "execution_count": 8,
     "metadata": {},
     "output_type": "execute_result"
    }
   ],
   "source": [
    "256**0.25"
   ]
  },
  {
   "cell_type": "code",
   "execution_count": 10,
   "metadata": {},
   "outputs": [
    {
     "data": {
      "text/plain": [
       "3.0"
      ]
     },
     "execution_count": 10,
     "metadata": {},
     "output_type": "execute_result"
    }
   ],
   "source": [
    "27**(1/3)"
   ]
  },
  {
   "cell_type": "code",
   "execution_count": 11,
   "metadata": {},
   "outputs": [
    {
     "data": {
      "text/plain": [
       "2.8284271247461903"
      ]
     },
     "execution_count": 11,
     "metadata": {},
     "output_type": "execute_result"
    }
   ],
   "source": [
    "8**(1/2)"
   ]
  },
  {
   "cell_type": "code",
   "execution_count": 8,
   "metadata": {},
   "outputs": [
    {
     "data": {
      "text/plain": [
       "6.135792439661959"
      ]
     },
     "execution_count": 8,
     "metadata": {},
     "output_type": "execute_result"
    }
   ],
   "source": [
    "((9**2-4)*3)**(1/3)"
   ]
  },
  {
   "cell_type": "code",
   "execution_count": 10,
   "metadata": {},
   "outputs": [
    {
     "data": {
      "text/plain": [
       "(6, 7, 10)"
      ]
     },
     "execution_count": 10,
     "metadata": {},
     "output_type": "execute_result"
    }
   ],
   "source": [
    "a,b,c=6,7,10\n",
    "a,b,c"
   ]
  },
  {
   "cell_type": "code",
   "execution_count": 11,
   "metadata": {},
   "outputs": [
    {
     "data": {
      "text/plain": [
       "(6, 7, 10)"
      ]
     },
     "execution_count": 11,
     "metadata": {},
     "output_type": "execute_result"
    }
   ],
   "source": [
    "_"
   ]
  },
  {
   "cell_type": "code",
   "execution_count": 1,
   "metadata": {},
   "outputs": [
    {
     "data": {
      "text/plain": [
       "(3, 2)"
      ]
     },
     "execution_count": 1,
     "metadata": {},
     "output_type": "execute_result"
    }
   ],
   "source": [
    "# Atribui o valor de a=2 e b=3\n",
    "a, b = 2, 3\n",
    "\n",
    "# Troca os valores de a e b\n",
    "a, b = b, a\n",
    "\n",
    "# Mostra os valores de a e b abaixo da célula\n",
    "a, b"
   ]
  },
  {
   "cell_type": "code",
   "execution_count": 3,
   "metadata": {},
   "outputs": [
    {
     "data": {
      "text/plain": [
       "'5 abacate'"
      ]
     },
     "execution_count": 3,
     "metadata": {},
     "output_type": "execute_result"
    }
   ],
   "source": [
    "str(5)+' abacate'"
   ]
  },
  {
   "cell_type": "code",
   "execution_count": 19,
   "metadata": {},
   "outputs": [
    {
     "data": {
      "text/plain": [
       "'O valor de a é 3 e o valor de b é 2.'"
      ]
     },
     "execution_count": 19,
     "metadata": {},
     "output_type": "execute_result"
    }
   ],
   "source": [
    "# Atribui o valor de a=2 e b=3\n",
    "a, b = 2, 3\n",
    "\n",
    "# Troca os valores de a e b\n",
    "a, b = b, a\n",
    "\n",
    "## Mostra os valores de a e b abaixo da célula\n",
    "\"O valor de a é \"+str(a)+\" e o valor de b é \" +str(b)+\".\""
   ]
  },
  {
   "cell_type": "code",
   "execution_count": 21,
   "metadata": {},
   "outputs": [
    {
     "name": "stdout",
     "output_type": "stream",
     "text": [
      "Este é um texto comum\n",
      "300\n"
     ]
    }
   ],
   "source": [
    "print(\"Este é um texto comum\")\n",
    "var1 = 300\n",
    "print(var1)"
   ]
  },
  {
   "cell_type": "code",
   "execution_count": 23,
   "metadata": {},
   "outputs": [
    {
     "name": "stdout",
     "output_type": "stream",
     "text": [
      "O tamanho da Frase 1 é 2;\n",
      "O tamanho da Frase 2 é 34;\n",
      "E o tamanho da Frase 3 é 0.\n"
     ]
    }
   ],
   "source": [
    "Frase_1 = len(\"Oi\")\n",
    "Frase_2 = len('Eu tenho um gato que mia bastante.')\n",
    "Frase_3 = len('')\n",
    "print(\"O tamanho da Frase 1 é \"+str(Frase_1)+\";\")\n",
    "print(\"O tamanho da Frase 2 é \"+str(Frase_2)+\";\")\n",
    "print(\"E o tamanho da Frase 3 é \"+str(Frase_3)+\".\")"
   ]
  },
  {
   "cell_type": "code",
   "execution_count": 24,
   "metadata": {},
   "outputs": [
    {
     "ename": "NameError",
     "evalue": "name 'asdasds' is not defined",
     "output_type": "error",
     "traceback": [
      "\u001b[0;31m---------------------------------------------------------------------------\u001b[0m",
      "\u001b[0;31mNameError\u001b[0m                                 Traceback (most recent call last)",
      "\u001b[0;32m<ipython-input-24-3c83ffeda954>\u001b[0m in \u001b[0;36m<module>\u001b[0;34m\u001b[0m\n\u001b[0;32m----> 1\u001b[0;31m \u001b[0masdasds\u001b[0m\u001b[0;34m\u001b[0m\u001b[0;34m\u001b[0m\u001b[0m\n\u001b[0m",
      "\u001b[0;31mNameError\u001b[0m: name 'asdasds' is not defined"
     ]
    }
   ],
   "source": [
    "asdasds"
   ]
  },
  {
   "cell_type": "code",
   "execution_count": 26,
   "metadata": {},
   "outputs": [
    {
     "name": "stdout",
     "output_type": "stream",
     "text": [
      "Esta é a primeira linha.\n",
      "Esta é a segunda linha.\n",
      "Esta é a terceira linha.\n"
     ]
    }
   ],
   "source": [
    "print(\"Esta é a primeira linha.\\nEsta é a segunda linha.\\nEsta é a terceira linha.\")"
   ]
  },
  {
   "cell_type": "code",
   "execution_count": 31,
   "metadata": {},
   "outputs": [
    {
     "name": "stdout",
     "output_type": "stream",
     "text": [
      "Esta é a primeira linha.\n",
      "Esta é a segunda linha.\n",
      "Esta é a terceira linha.\n"
     ]
    }
   ],
   "source": [
    "print(\"\"\"Esta é a primeira linha.\n",
    "Esta é a segunda linha.\n",
    "Esta é a terceira linha.\"\"\")"
   ]
  },
  {
   "cell_type": "code",
   "execution_count": 35,
   "metadata": {},
   "outputs": [
    {
     "name": "stdout",
     "output_type": "stream",
     "text": [
      "O meu nome é Lucas e minha data de aniversário é 19 de Abril .\n"
     ]
    }
   ],
   "source": [
    "nome = 'Lucas'\n",
    "peso = 69\n",
    "data=19\n",
    "mes='Abril'\n",
    "print('O meu nome é',nome,'e minha data de aniversário é',data,'de',mes,'.')"
   ]
  },
  {
   "cell_type": "code",
   "execution_count": 41,
   "metadata": {},
   "outputs": [
    {
     "name": "stdout",
     "output_type": "stream",
     "text": [
      "Digite três palavras:\n"
     ]
    },
    {
     "name": "stdin",
     "output_type": "stream",
     "text": [
      " a\n",
      " b\n",
      " v\n"
     ]
    },
    {
     "name": "stdout",
     "output_type": "stream",
     "text": [
      "A frase formada com essas três palavras é: a b v\n"
     ]
    }
   ],
   "source": [
    "print(\"Digite três palavras:\")\n",
    "palavra1=input()\n",
    "palavra2=input()\n",
    "palavra3=input()\n",
    "print(\"A frase formada com essas três palavras é:\",palavra1,palavra2,palavra3)"
   ]
  },
  {
   "cell_type": "code",
   "execution_count": 42,
   "metadata": {},
   "outputs": [
    {
     "name": "stdout",
     "output_type": "stream",
     "text": [
      "Alterando o valor de sep\n",
      "1980--->1990--->2000--->2010\n",
      "\n",
      "Alterando o valor de sep e end\n",
      "1980--->1990--->2000--->2010...\n"
     ]
    }
   ],
   "source": [
    "ano1 = '1980'\n",
    "ano2 = '1990'\n",
    "ano3 = '2000'\n",
    "ano4 = '2010'\n",
    "\n",
    "texto = \"Alterando o valor de sep\"\n",
    "print(texto)\n",
    "print(ano1, ano2, ano3, ano4, sep='--->')\n",
    "\n",
    "# pula uma linha\n",
    "print()\n",
    "\n",
    "texto = \"Alterando o valor de sep e end\"\n",
    "print(texto)\n",
    "print(ano1, ano2, ano3, ano4, sep='--->', end='...\\n')"
   ]
  },
  {
   "cell_type": "code",
   "execution_count": 45,
   "metadata": {},
   "outputs": [
    {
     "name": "stdout",
     "output_type": "stream",
     "text": [
      "Digite cinco números:\n"
     ]
    },
    {
     "name": "stdin",
     "output_type": "stream",
     "text": [
      " 1\n",
      " 2\n",
      " 3\n"
     ]
    },
    {
     "name": "stdout",
     "output_type": "stream",
     "text": [
      "Os números digitados foram:, 1, 2, 3.\n"
     ]
    }
   ],
   "source": [
    "print(\"Digite cinco números:\")\n",
    "n1=input()\n",
    "n2=input()\n",
    "n3=input()\n",
    "print(\"Os números digitados foram 1, \",n1,n2,n3,sep=', ',end='.\\n')"
   ]
  }
 ],
 "metadata": {
  "kernelspec": {
   "display_name": "Python 3",
   "language": "python",
   "name": "python3"
  },
  "language_info": {
   "codemirror_mode": {
    "name": "ipython",
    "version": 3
   },
   "file_extension": ".py",
   "mimetype": "text/x-python",
   "name": "python",
   "nbconvert_exporter": "python",
   "pygments_lexer": "ipython3",
   "version": "3.8.3"
  }
 },
 "nbformat": 4,
 "nbformat_minor": 4
}
